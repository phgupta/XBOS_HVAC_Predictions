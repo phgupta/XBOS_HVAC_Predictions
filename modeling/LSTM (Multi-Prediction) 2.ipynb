{
 "cells": [
  {
   "cell_type": "markdown",
   "metadata": {},
   "source": [
    "# To Do\n",
    "\n",
    "1. Convert HVAC states categorical --> dummy variables.\n",
    "2. Check to see if the TIMESTEPS are all consecutive data.\n",
    "3. Try,\n",
    "    1. stateful v/s stateless LSTMs.\n",
    "    2. Recursive and Direct output multi-step forecasting.\n",
    "    3. Training on one-month of data and predicting 4 hours ahead.\n",
    "    4. ANN.\n",
    "    5. Adding additional features - holidays & weather data.\n",
    "\n",
    "\n",
    "# Note\n",
    "\n",
    "1. For Augmented-Dickey-Fuller Test, null hypothesis is that the data is non-stationary. If p-value > critical value then the data is non-stationary."
   ]
  },
  {
   "cell_type": "code",
   "execution_count": 1,
   "metadata": {},
   "outputs": [
    {
     "name": "stderr",
     "output_type": "stream",
     "text": [
      "Using TensorFlow backend.\n"
     ]
    }
   ],
   "source": [
    "import numpy as np\n",
    "import pandas as pd\n",
    "from scipy import stats\n",
    "from sklearn.preprocessing import MinMaxScaler\n",
    "from sklearn.model_selection import train_test_split\n",
    "from keras.models import Sequential\n",
    "from keras.layers import Dropout, Dense, LSTM\n",
    "from statsmodels.tsa.stattools import adfuller\n",
    "from statsmodels.graphics.tsaplots import plot_acf, plot_pacf\n",
    "\n",
    "import matplotlib.pyplot as plt\n",
    "%matplotlib inline\n",
    "\n",
    "import warnings\n",
    "warnings.filterwarnings('ignore')"
   ]
  },
  {
   "cell_type": "code",
   "execution_count": 2,
   "metadata": {},
   "outputs": [],
   "source": [
    "data_folder = 'data'\n",
    "site = 'avenal-movie-theatre'"
   ]
  },
  {
   "cell_type": "markdown",
   "metadata": {},
   "source": [
    "# Import data"
   ]
  },
  {
   "cell_type": "markdown",
   "metadata": {},
   "source": [
    "## Eagle (power) data"
   ]
  },
  {
   "cell_type": "code",
   "execution_count": 3,
   "metadata": {},
   "outputs": [
    {
     "data": {
      "text/html": [
       "<div>\n",
       "<style scoped>\n",
       "    .dataframe tbody tr th:only-of-type {\n",
       "        vertical-align: middle;\n",
       "    }\n",
       "\n",
       "    .dataframe tbody tr th {\n",
       "        vertical-align: top;\n",
       "    }\n",
       "\n",
       "    .dataframe thead th {\n",
       "        text-align: right;\n",
       "    }\n",
       "</style>\n",
       "<table border=\"1\" class=\"dataframe\">\n",
       "  <thead>\n",
       "    <tr style=\"text-align: right;\">\n",
       "      <th></th>\n",
       "      <th>power</th>\n",
       "    </tr>\n",
       "    <tr>\n",
       "      <th>datetime</th>\n",
       "      <th></th>\n",
       "    </tr>\n",
       "  </thead>\n",
       "  <tbody>\n",
       "    <tr>\n",
       "      <th>2018-01-01 00:00:04.574889+00:00</th>\n",
       "      <td>400.0</td>\n",
       "    </tr>\n",
       "    <tr>\n",
       "      <th>2018-01-01 00:00:10.215095+00:00</th>\n",
       "      <td>440.0</td>\n",
       "    </tr>\n",
       "    <tr>\n",
       "      <th>2018-01-01 00:00:13.496753+00:00</th>\n",
       "      <td>440.0</td>\n",
       "    </tr>\n",
       "    <tr>\n",
       "      <th>2018-01-01 00:00:20.031088+00:00</th>\n",
       "      <td>440.0</td>\n",
       "    </tr>\n",
       "    <tr>\n",
       "      <th>2018-01-01 00:00:33.525473+00:00</th>\n",
       "      <td>400.0</td>\n",
       "    </tr>\n",
       "  </tbody>\n",
       "</table>\n",
       "</div>"
      ],
      "text/plain": [
       "                                  power\n",
       "datetime                               \n",
       "2018-01-01 00:00:04.574889+00:00  400.0\n",
       "2018-01-01 00:00:10.215095+00:00  440.0\n",
       "2018-01-01 00:00:13.496753+00:00  440.0\n",
       "2018-01-01 00:00:20.031088+00:00  440.0\n",
       "2018-01-01 00:00:33.525473+00:00  400.0"
      ]
     },
     "execution_count": 3,
     "metadata": {},
     "output_type": "execute_result"
    }
   ],
   "source": [
    "df_raw = pd.read_csv(data_folder + '/power_' + site + '.csv', index_col=[0], parse_dates=True)\n",
    "df_raw = df_raw[(df_raw.index < '2019-04-01')]\n",
    "df_raw.head()"
   ]
  },
  {
   "cell_type": "code",
   "execution_count": 4,
   "metadata": {},
   "outputs": [
    {
     "data": {
      "text/plain": [
       "<matplotlib.axes._subplots.AxesSubplot at 0x1c33536710>"
      ]
     },
     "execution_count": 4,
     "metadata": {},
     "output_type": "execute_result"
    },
    {
     "data": {
      "image/png": "[encoded data removed]",
      "text/plain": [
       "<Figure size 1296x360 with 1 Axes>"
      ]
     },
     "metadata": {
      "needs_background": "light"
     },
     "output_type": "display_data"
    }
   ],
   "source": [
    "df_raw.plot(figsize=(18,5))"
   ]
  },
  {
   "cell_type": "markdown",
   "metadata": {},
   "source": [
    "## Check for missing data"
   ]
  },
  {
   "cell_type": "code",
   "execution_count": 5,
   "metadata": {
    "scrolled": true
   },
   "outputs": [
    {
     "data": {
      "text/plain": [
       "power    False\n",
       "dtype: bool"
      ]
     },
     "execution_count": 5,
     "metadata": {},
     "output_type": "execute_result"
    }
   ],
   "source": [
    "df_raw.isna().any()"
   ]
  },
  {
   "cell_type": "markdown",
   "metadata": {},
   "source": [
    "## Clean data"
   ]
  },
  {
   "cell_type": "code",
   "execution_count": 6,
   "metadata": {},
   "outputs": [
    {
     "data": {
      "text/html": [
       "<div>\n",
       "<style scoped>\n",
       "    .dataframe tbody tr th:only-of-type {\n",
       "        vertical-align: middle;\n",
       "    }\n",
       "\n",
       "    .dataframe tbody tr th {\n",
       "        vertical-align: top;\n",
       "    }\n",
       "\n",
       "    .dataframe thead th {\n",
       "        text-align: right;\n",
       "    }\n",
       "</style>\n",
       "<table border=\"1\" class=\"dataframe\">\n",
       "  <thead>\n",
       "    <tr style=\"text-align: right;\">\n",
       "      <th></th>\n",
       "      <th>power</th>\n",
       "    </tr>\n",
       "    <tr>\n",
       "      <th>datetime</th>\n",
       "      <th></th>\n",
       "    </tr>\n",
       "  </thead>\n",
       "  <tbody>\n",
       "    <tr>\n",
       "      <th>2018-01-01 00:00:00+00:00</th>\n",
       "      <td>416.991150</td>\n",
       "    </tr>\n",
       "    <tr>\n",
       "      <th>2018-01-01 00:15:00+00:00</th>\n",
       "      <td>477.477477</td>\n",
       "    </tr>\n",
       "    <tr>\n",
       "      <th>2018-01-01 00:30:00+00:00</th>\n",
       "      <td>430.990991</td>\n",
       "    </tr>\n",
       "    <tr>\n",
       "      <th>2018-01-01 00:45:00+00:00</th>\n",
       "      <td>504.081633</td>\n",
       "    </tr>\n",
       "    <tr>\n",
       "      <th>2018-01-01 01:00:00+00:00</th>\n",
       "      <td>453.565217</td>\n",
       "    </tr>\n",
       "  </tbody>\n",
       "</table>\n",
       "</div>"
      ],
      "text/plain": [
       "                                power\n",
       "datetime                             \n",
       "2018-01-01 00:00:00+00:00  416.991150\n",
       "2018-01-01 00:15:00+00:00  477.477477\n",
       "2018-01-01 00:30:00+00:00  430.990991\n",
       "2018-01-01 00:45:00+00:00  504.081633\n",
       "2018-01-01 01:00:00+00:00  453.565217"
      ]
     },
     "execution_count": 6,
     "metadata": {},
     "output_type": "execute_result"
    }
   ],
   "source": [
    "df_processed = df_raw.resample('15T').mean()\n",
    "df_processed = df_processed[df_processed['power'] < 10000000]\n",
    "df_processed = df_processed[(np.abs(stats.zscore(df_processed)) < float(3)).all(axis=1)]\n",
    "df_processed.dropna(inplace=True)\n",
    "df_processed.head()"
   ]
  },
  {
   "cell_type": "code",
   "execution_count": 7,
   "metadata": {
    "scrolled": true
   },
   "outputs": [
    {
     "data": {
      "text/plain": [
       "<matplotlib.axes._subplots.AxesSubplot at 0x1c497c2198>"
      ]
     },
     "execution_count": 7,
     "metadata": {},
     "output_type": "execute_result"
    },
    {
     "data": {
      "image/png": "[encoded data removed]",
      "text/plain": [
       "<Figure size 1296x360 with 1 Axes>"
      ]
     },
     "metadata": {
      "needs_background": "light"
     },
     "output_type": "display_data"
    }
   ],
   "source": [
    "df_processed.plot(figsize=(18,5))"
   ]
  },
  {
   "cell_type": "markdown",
   "metadata": {},
   "source": [
    "## Normalize data"
   ]
  },
  {
   "cell_type": "code",
   "execution_count": 8,
   "metadata": {
    "scrolled": true
   },
   "outputs": [
    {
     "data": {
      "text/html": [
       "<div>\n",
       "<style scoped>\n",
       "    .dataframe tbody tr th:only-of-type {\n",
       "        vertical-align: middle;\n",
       "    }\n",
       "\n",
       "    .dataframe tbody tr th {\n",
       "        vertical-align: top;\n",
       "    }\n",
       "\n",
       "    .dataframe thead th {\n",
       "        text-align: right;\n",
       "    }\n",
       "</style>\n",
       "<table border=\"1\" class=\"dataframe\">\n",
       "  <thead>\n",
       "    <tr style=\"text-align: right;\">\n",
       "      <th></th>\n",
       "      <th>power</th>\n",
       "    </tr>\n",
       "    <tr>\n",
       "      <th>datetime</th>\n",
       "      <th></th>\n",
       "    </tr>\n",
       "  </thead>\n",
       "  <tbody>\n",
       "    <tr>\n",
       "      <th>2018-01-01 00:00:00+00:00</th>\n",
       "      <td>0.016522</td>\n",
       "    </tr>\n",
       "    <tr>\n",
       "      <th>2018-01-01 00:15:00+00:00</th>\n",
       "      <td>0.026825</td>\n",
       "    </tr>\n",
       "    <tr>\n",
       "      <th>2018-01-01 00:30:00+00:00</th>\n",
       "      <td>0.018907</td>\n",
       "    </tr>\n",
       "    <tr>\n",
       "      <th>2018-01-01 00:45:00+00:00</th>\n",
       "      <td>0.031357</td>\n",
       "    </tr>\n",
       "    <tr>\n",
       "      <th>2018-01-01 01:00:00+00:00</th>\n",
       "      <td>0.022752</td>\n",
       "    </tr>\n",
       "  </tbody>\n",
       "</table>\n",
       "</div>"
      ],
      "text/plain": [
       "                              power\n",
       "datetime                           \n",
       "2018-01-01 00:00:00+00:00  0.016522\n",
       "2018-01-01 00:15:00+00:00  0.026825\n",
       "2018-01-01 00:30:00+00:00  0.018907\n",
       "2018-01-01 00:45:00+00:00  0.031357\n",
       "2018-01-01 01:00:00+00:00  0.022752"
      ]
     },
     "execution_count": 8,
     "metadata": {},
     "output_type": "execute_result"
    }
   ],
   "source": [
    "scaler = MinMaxScaler(feature_range=(0,1))\n",
    "df_normalized = pd.DataFrame(scaler.fit_transform(df_processed), \n",
    "                             columns=df_processed.columns, index=df_processed.index)\n",
    "df_normalized.head()"
   ]
  },
  {
   "cell_type": "markdown",
   "metadata": {},
   "source": [
    "## Check for stationarity"
   ]
  },
  {
   "cell_type": "code",
   "execution_count": 9,
   "metadata": {},
   "outputs": [
    {
     "data": {
      "text/plain": [
       "Test Statistic            -30.665127\n",
       "p-value                     0.000000\n",
       "#Lags Used                 48.000000\n",
       "#Observations Used      40294.000000\n",
       "Critical Value (1%)        -3.430512\n",
       "Critical Value (5%)        -2.861612\n",
       "Critical Value (10%)       -2.566808\n",
       "dtype: float64"
      ]
     },
     "execution_count": 9,
     "metadata": {},
     "output_type": "execute_result"
    }
   ],
   "source": [
    "result = adfuller(df_normalized['power'], autolag='AIC')\n",
    "output = pd.Series(result[0:4], index=['Test Statistic', 'p-value', '#Lags Used',\n",
    "                                      '#Observations Used'])\n",
    "for key, value in result[4].items():\n",
    "    output['Critical Value (%s)' % key] = value\n",
    "    \n",
    "output"
   ]
  },
  {
   "cell_type": "markdown",
   "metadata": {},
   "source": [
    "## HVAC States data"
   ]
  },
  {
   "cell_type": "code",
   "execution_count": 10,
   "metadata": {
    "scrolled": true
   },
   "outputs": [
    {
     "data": {
      "text/html": [
       "<div>\n",
       "<style scoped>\n",
       "    .dataframe tbody tr th:only-of-type {\n",
       "        vertical-align: middle;\n",
       "    }\n",
       "\n",
       "    .dataframe tbody tr th {\n",
       "        vertical-align: top;\n",
       "    }\n",
       "\n",
       "    .dataframe thead th {\n",
       "        text-align: right;\n",
       "    }\n",
       "</style>\n",
       "<table border=\"1\" class=\"dataframe\">\n",
       "  <thead>\n",
       "    <tr style=\"text-align: right;\">\n",
       "      <th></th>\n",
       "      <th>hvac_zone_lobby</th>\n",
       "      <th>hvac_zone_main_hallway</th>\n",
       "      <th>hvac_zone_room_a</th>\n",
       "      <th>hvac_zone_theater_2</th>\n",
       "      <th>hvac_zone_back_hallway</th>\n",
       "      <th>hvac_zone_room_d</th>\n",
       "      <th>hvac_zone_pegasus_hall</th>\n",
       "      <th>hvac_zone_theater_1</th>\n",
       "    </tr>\n",
       "  </thead>\n",
       "  <tbody>\n",
       "    <tr>\n",
       "      <th>2018-01-01 00:00:00+00:00</th>\n",
       "      <td>0.0</td>\n",
       "      <td>1.0</td>\n",
       "      <td>0.0</td>\n",
       "      <td>0.0</td>\n",
       "      <td>0.0</td>\n",
       "      <td>0.0</td>\n",
       "      <td>0.0</td>\n",
       "      <td>0.0</td>\n",
       "    </tr>\n",
       "    <tr>\n",
       "      <th>2018-01-01 00:05:00+00:00</th>\n",
       "      <td>0.0</td>\n",
       "      <td>1.0</td>\n",
       "      <td>0.0</td>\n",
       "      <td>0.0</td>\n",
       "      <td>0.0</td>\n",
       "      <td>0.0</td>\n",
       "      <td>0.0</td>\n",
       "      <td>0.0</td>\n",
       "    </tr>\n",
       "    <tr>\n",
       "      <th>2018-01-01 00:10:00+00:00</th>\n",
       "      <td>0.0</td>\n",
       "      <td>1.0</td>\n",
       "      <td>0.0</td>\n",
       "      <td>0.0</td>\n",
       "      <td>0.0</td>\n",
       "      <td>0.0</td>\n",
       "      <td>0.0</td>\n",
       "      <td>0.0</td>\n",
       "    </tr>\n",
       "    <tr>\n",
       "      <th>2018-01-01 00:15:00+00:00</th>\n",
       "      <td>0.0</td>\n",
       "      <td>1.0</td>\n",
       "      <td>0.0</td>\n",
       "      <td>0.0</td>\n",
       "      <td>0.0</td>\n",
       "      <td>0.0</td>\n",
       "      <td>0.0</td>\n",
       "      <td>0.0</td>\n",
       "    </tr>\n",
       "    <tr>\n",
       "      <th>2018-01-01 00:20:00+00:00</th>\n",
       "      <td>0.0</td>\n",
       "      <td>1.0</td>\n",
       "      <td>0.0</td>\n",
       "      <td>0.0</td>\n",
       "      <td>1.0</td>\n",
       "      <td>0.0</td>\n",
       "      <td>0.0</td>\n",
       "      <td>0.0</td>\n",
       "    </tr>\n",
       "  </tbody>\n",
       "</table>\n",
       "</div>"
      ],
      "text/plain": [
       "                           hvac_zone_lobby  hvac_zone_main_hallway  \\\n",
       "2018-01-01 00:00:00+00:00              0.0                     1.0   \n",
       "2018-01-01 00:05:00+00:00              0.0                     1.0   \n",
       "2018-01-01 00:10:00+00:00              0.0                     1.0   \n",
       "2018-01-01 00:15:00+00:00              0.0                     1.0   \n",
       "2018-01-01 00:20:00+00:00              0.0                     1.0   \n",
       "\n",
       "                           hvac_zone_room_a  hvac_zone_theater_2  \\\n",
       "2018-01-01 00:00:00+00:00               0.0                  0.0   \n",
       "2018-01-01 00:05:00+00:00               0.0                  0.0   \n",
       "2018-01-01 00:10:00+00:00               0.0                  0.0   \n",
       "2018-01-01 00:15:00+00:00               0.0                  0.0   \n",
       "2018-01-01 00:20:00+00:00               0.0                  0.0   \n",
       "\n",
       "                           hvac_zone_back_hallway  hvac_zone_room_d  \\\n",
       "2018-01-01 00:00:00+00:00                     0.0               0.0   \n",
       "2018-01-01 00:05:00+00:00                     0.0               0.0   \n",
       "2018-01-01 00:10:00+00:00                     0.0               0.0   \n",
       "2018-01-01 00:15:00+00:00                     0.0               0.0   \n",
       "2018-01-01 00:20:00+00:00                     1.0               0.0   \n",
       "\n",
       "                           hvac_zone_pegasus_hall  hvac_zone_theater_1  \n",
       "2018-01-01 00:00:00+00:00                     0.0                  0.0  \n",
       "2018-01-01 00:05:00+00:00                     0.0                  0.0  \n",
       "2018-01-01 00:10:00+00:00                     0.0                  0.0  \n",
       "2018-01-01 00:15:00+00:00                     0.0                  0.0  \n",
       "2018-01-01 00:20:00+00:00                     0.0                  0.0  "
      ]
     },
     "execution_count": 10,
     "metadata": {},
     "output_type": "execute_result"
    }
   ],
   "source": [
    "df_raw_hvac_states = pd.read_csv(data_folder + '/hvac_states_' + site + '.csv', index_col=[0], parse_dates=True)\n",
    "df_raw_hvac_states.head()"
   ]
  },
  {
   "cell_type": "markdown",
   "metadata": {},
   "source": [
    "## Check for missing data"
   ]
  },
  {
   "cell_type": "code",
   "execution_count": 11,
   "metadata": {
    "scrolled": true
   },
   "outputs": [
    {
     "data": {
      "text/plain": [
       "hvac_zone_lobby           True\n",
       "hvac_zone_main_hallway    True\n",
       "hvac_zone_room_a          True\n",
       "hvac_zone_theater_2       True\n",
       "hvac_zone_back_hallway    True\n",
       "hvac_zone_room_d          True\n",
       "hvac_zone_pegasus_hall    True\n",
       "hvac_zone_theater_1       True\n",
       "dtype: bool"
      ]
     },
     "execution_count": 11,
     "metadata": {},
     "output_type": "execute_result"
    }
   ],
   "source": [
    "df_raw_hvac_states.isna().any()"
   ]
  },
  {
   "cell_type": "markdown",
   "metadata": {},
   "source": [
    "## Clean data"
   ]
  },
  {
   "cell_type": "code",
   "execution_count": 12,
   "metadata": {},
   "outputs": [],
   "source": [
    "def func(row):\n",
    "    \"\"\" Possible situations: (0,0,0), (1,0,1), (0,1,2) --> 0, 1, 2\n",
    "    \n",
    "    If all are same --> first element\n",
    "    If there is a majority among the 3 --> majority\n",
    "    If all are unique --> last element\n",
    "    \n",
    "    \"\"\"\n",
    "\n",
    "    count = len(set(list(row.values)))\n",
    "    if count == 1:\n",
    "        return row.values[0]\n",
    "    elif count == 2:\n",
    "        return max(set(list(row.values)), key=list(row.values).count)\n",
    "    else:\n",
    "        return row.values[-1]\n",
    "    \n",
    "resample_df_hvac = df_raw_hvac_states.resample('15T').apply(func).dropna()"
   ]
  },
  {
   "cell_type": "markdown",
   "metadata": {},
   "source": [
    "### TODO: Check if 'forward fill' is correct by determining the number of consecutive NaN's in all columns"
   ]
  },
  {
   "cell_type": "code",
   "execution_count": 13,
   "metadata": {},
   "outputs": [],
   "source": [
    "# resample_df_hvac = resample_df_hvac.fillna(method='ffill')\n",
    "# resample_df_hvac.isna().any()"
   ]
  },
  {
   "cell_type": "markdown",
   "metadata": {},
   "source": [
    "## Concatenate data"
   ]
  },
  {
   "cell_type": "code",
   "execution_count": 14,
   "metadata": {
    "scrolled": false
   },
   "outputs": [
    {
     "data": {
      "text/html": [
       "<div>\n",
       "<style scoped>\n",
       "    .dataframe tbody tr th:only-of-type {\n",
       "        vertical-align: middle;\n",
       "    }\n",
       "\n",
       "    .dataframe tbody tr th {\n",
       "        vertical-align: top;\n",
       "    }\n",
       "\n",
       "    .dataframe thead th {\n",
       "        text-align: right;\n",
       "    }\n",
       "</style>\n",
       "<table border=\"1\" class=\"dataframe\">\n",
       "  <thead>\n",
       "    <tr style=\"text-align: right;\">\n",
       "      <th></th>\n",
       "      <th>power</th>\n",
       "      <th>hvac_zone_lobby</th>\n",
       "      <th>hvac_zone_main_hallway</th>\n",
       "      <th>hvac_zone_room_a</th>\n",
       "      <th>hvac_zone_theater_2</th>\n",
       "      <th>hvac_zone_back_hallway</th>\n",
       "      <th>hvac_zone_room_d</th>\n",
       "      <th>hvac_zone_pegasus_hall</th>\n",
       "      <th>hvac_zone_theater_1</th>\n",
       "    </tr>\n",
       "  </thead>\n",
       "  <tbody>\n",
       "    <tr>\n",
       "      <th>2018-01-01 00:00:00+00:00</th>\n",
       "      <td>0.016522</td>\n",
       "      <td>0.0</td>\n",
       "      <td>1.0</td>\n",
       "      <td>0.0</td>\n",
       "      <td>0.0</td>\n",
       "      <td>0.0</td>\n",
       "      <td>0.0</td>\n",
       "      <td>0.0</td>\n",
       "      <td>0.0</td>\n",
       "    </tr>\n",
       "    <tr>\n",
       "      <th>2018-01-01 00:15:00+00:00</th>\n",
       "      <td>0.026825</td>\n",
       "      <td>0.0</td>\n",
       "      <td>1.0</td>\n",
       "      <td>0.0</td>\n",
       "      <td>0.0</td>\n",
       "      <td>1.0</td>\n",
       "      <td>0.0</td>\n",
       "      <td>0.0</td>\n",
       "      <td>0.0</td>\n",
       "    </tr>\n",
       "    <tr>\n",
       "      <th>2018-01-01 00:30:00+00:00</th>\n",
       "      <td>0.018907</td>\n",
       "      <td>0.0</td>\n",
       "      <td>1.0</td>\n",
       "      <td>0.0</td>\n",
       "      <td>0.0</td>\n",
       "      <td>0.0</td>\n",
       "      <td>0.0</td>\n",
       "      <td>0.0</td>\n",
       "      <td>0.0</td>\n",
       "    </tr>\n",
       "    <tr>\n",
       "      <th>2018-01-01 00:45:00+00:00</th>\n",
       "      <td>0.031357</td>\n",
       "      <td>0.0</td>\n",
       "      <td>1.0</td>\n",
       "      <td>0.0</td>\n",
       "      <td>0.0</td>\n",
       "      <td>0.0</td>\n",
       "      <td>0.0</td>\n",
       "      <td>0.0</td>\n",
       "      <td>0.0</td>\n",
       "    </tr>\n",
       "    <tr>\n",
       "      <th>2018-01-01 01:00:00+00:00</th>\n",
       "      <td>0.022752</td>\n",
       "      <td>0.0</td>\n",
       "      <td>1.0</td>\n",
       "      <td>0.0</td>\n",
       "      <td>0.0</td>\n",
       "      <td>1.0</td>\n",
       "      <td>0.0</td>\n",
       "      <td>0.0</td>\n",
       "      <td>0.0</td>\n",
       "    </tr>\n",
       "  </tbody>\n",
       "</table>\n",
       "</div>"
      ],
      "text/plain": [
       "                              power  hvac_zone_lobby  hvac_zone_main_hallway  \\\n",
       "2018-01-01 00:00:00+00:00  0.016522              0.0                     1.0   \n",
       "2018-01-01 00:15:00+00:00  0.026825              0.0                     1.0   \n",
       "2018-01-01 00:30:00+00:00  0.018907              0.0                     1.0   \n",
       "2018-01-01 00:45:00+00:00  0.031357              0.0                     1.0   \n",
       "2018-01-01 01:00:00+00:00  0.022752              0.0                     1.0   \n",
       "\n",
       "                           hvac_zone_room_a  hvac_zone_theater_2  \\\n",
       "2018-01-01 00:00:00+00:00               0.0                  0.0   \n",
       "2018-01-01 00:15:00+00:00               0.0                  0.0   \n",
       "2018-01-01 00:30:00+00:00               0.0                  0.0   \n",
       "2018-01-01 00:45:00+00:00               0.0                  0.0   \n",
       "2018-01-01 01:00:00+00:00               0.0                  0.0   \n",
       "\n",
       "                           hvac_zone_back_hallway  hvac_zone_room_d  \\\n",
       "2018-01-01 00:00:00+00:00                     0.0               0.0   \n",
       "2018-01-01 00:15:00+00:00                     1.0               0.0   \n",
       "2018-01-01 00:30:00+00:00                     0.0               0.0   \n",
       "2018-01-01 00:45:00+00:00                     0.0               0.0   \n",
       "2018-01-01 01:00:00+00:00                     1.0               0.0   \n",
       "\n",
       "                           hvac_zone_pegasus_hall  hvac_zone_theater_1  \n",
       "2018-01-01 00:00:00+00:00                     0.0                  0.0  \n",
       "2018-01-01 00:15:00+00:00                     0.0                  0.0  \n",
       "2018-01-01 00:30:00+00:00                     0.0                  0.0  \n",
       "2018-01-01 00:45:00+00:00                     0.0                  0.0  \n",
       "2018-01-01 01:00:00+00:00                     0.0                  0.0  "
      ]
     },
     "execution_count": 14,
     "metadata": {},
     "output_type": "execute_result"
    }
   ],
   "source": [
    "df = pd.concat([df_normalized, resample_df_hvac], axis=1)\n",
    "df.head()"
   ]
  },
  {
   "cell_type": "code",
   "execution_count": 15,
   "metadata": {},
   "outputs": [
    {
     "name": "stdout",
     "output_type": "stream",
     "text": [
      "missing data for power:  4.6602859506085315 %\n"
     ]
    }
   ],
   "source": [
    "missing = df['power'].isnull().sum()\n",
    "total = df['power'].shape[0]\n",
    "print('missing data for power: ', (missing/total)*100, '%')"
   ]
  },
  {
   "cell_type": "code",
   "execution_count": 16,
   "metadata": {},
   "outputs": [],
   "source": [
    "df.dropna(inplace=True)"
   ]
  },
  {
   "cell_type": "markdown",
   "metadata": {},
   "source": [
    "## Box plot"
   ]
  },
  {
   "cell_type": "code",
   "execution_count": 17,
   "metadata": {},
   "outputs": [
    {
     "data": {
      "text/plain": [
       "<matplotlib.axes._subplots.AxesSubplot at 0x1c414f4be0>"
      ]
     },
     "execution_count": 17,
     "metadata": {},
     "output_type": "execute_result"
    },
    {
     "data": {
      "image/png": "[encoded data removed]",
      "text/plain": [
       "<Figure size 432x288 with 1 Axes>"
      ]
     },
     "metadata": {
      "needs_background": "light"
     },
     "output_type": "display_data"
    }
   ],
   "source": [
    "df_box_plot = pd.DataFrame(df['power'])\n",
    "df_box_plot['quarter'] = df_box_plot.index.quarter\n",
    "df_box_plot.boxplot(column='power', by='quarter')"
   ]
  },
  {
   "cell_type": "markdown",
   "metadata": {},
   "source": [
    "## Histogram"
   ]
  },
  {
   "cell_type": "code",
   "execution_count": 18,
   "metadata": {},
   "outputs": [
    {
     "data": {
      "text/plain": [
       "<matplotlib.axes._subplots.AxesSubplot at 0x1c5b2704e0>"
      ]
     },
     "execution_count": 18,
     "metadata": {},
     "output_type": "execute_result"
    },
    {
     "data": {
      "image/png": "[encoded data removed]",
      "text/plain": [
       "<Figure size 432x288 with 1 Axes>"
      ]
     },
     "metadata": {
      "needs_background": "light"
     },
     "output_type": "display_data"
    }
   ],
   "source": [
    "df['power'].hist()"
   ]
  },
  {
   "cell_type": "markdown",
   "metadata": {},
   "source": [
    "## ACF and PACF"
   ]
  },
  {
   "cell_type": "code",
   "execution_count": 19,
   "metadata": {},
   "outputs": [
    {
     "data": {
      "image/png": "[encoded data removed]",
      "text/plain": [
       "<Figure size 432x288 with 1 Axes>"
      ]
     },
     "metadata": {
      "needs_background": "light"
     },
     "output_type": "display_data"
    },
    {
     "data": {
      "image/png": "[encoded data removed]",
      "text/plain": [
       "<Figure size 432x288 with 1 Axes>"
      ]
     },
     "metadata": {
      "needs_background": "light"
     },
     "output_type": "display_data"
    }
   ],
   "source": [
    "fig1 = plot_acf(df_processed['power'], lags=50)\n",
    "fig2 = plot_pacf(df_processed['power'], lags=50)"
   ]
  },
  {
   "cell_type": "markdown",
   "metadata": {},
   "source": [
    "# Prepare data"
   ]
  },
  {
   "cell_type": "markdown",
   "metadata": {},
   "source": [
    "## Split into training & testing data"
   ]
  },
  {
   "cell_type": "code",
   "execution_count": 37,
   "metadata": {},
   "outputs": [],
   "source": [
    "# X_train = df[(df.index < '2018-12-31')]\n",
    "# y_train = df.loc[(df.index < '2018-12-31'), 'power']\n",
    "\n",
    "# X_test = df[(df.index >= '2019-01-01')]\n",
    "# y_test = df.loc[(df.index >= '2019-01-01'), 'power']\n",
    "\n",
    "train_start_date = pd.Timestamp('2018-01-01')\n",
    "train_end_date   = pd.Timestamp('2018-02-01')\n",
    "test_start_date  = pd.Timestamp('2018-02-01')\n",
    "test_end_date  = pd.Timestamp('2018-04-01')\n",
    "\n",
    "X_train = df[train_start_date:train_end_date]\n",
    "y_train = df.loc[train_start_date:train_end_date, 'power']\n",
    "\n",
    "X_test  = df[test_start_date:test_end_date]\n",
    "y_test  = df.loc[test_start_date:test_end_date, 'power']"
   ]
  },
  {
   "cell_type": "markdown",
   "metadata": {},
   "source": [
    "## Prepare data for LSTM"
   ]
  },
  {
   "cell_type": "code",
   "execution_count": 39,
   "metadata": {},
   "outputs": [
    {
     "name": "stdout",
     "output_type": "stream",
     "text": [
      "(290, 672, 9)\n",
      "(290, 16)\n",
      "(4116, 672, 9)\n",
      "(4116, 16)\n"
     ]
    }
   ],
   "source": [
    "# Number of columns in X_train\n",
    "NUM_FEATURES    = len(X_train.columns)\n",
    "\n",
    "# ACF plot shows significant autocorrelation till lag=24\n",
    "NUM_TIMESTEPS   = 672\n",
    "\n",
    "# 4 hour predictions = Sixteen 15min predictions \n",
    "NUM_PREDICTIONS = 16\n",
    "\n",
    "\n",
    "train_x, train_y = [], []\n",
    "for i in range(NUM_TIMESTEPS, len(X_train)-NUM_PREDICTIONS):\n",
    "    train_x.append(X_train.values[i-NUM_TIMESTEPS:i])\n",
    "    train_y.append(y_train.values[i:i+NUM_PREDICTIONS])\n",
    "    \n",
    "train_x, train_y = np.array(train_x), np.array(train_y)\n",
    "\n",
    "print(train_x.shape)\n",
    "print(train_y.shape)\n",
    "\n",
    "\n",
    "test_x, test_y = [], []\n",
    "for i in range(NUM_TIMESTEPS, len(X_test)-NUM_PREDICTIONS):\n",
    "    test_x.append(X_test.values[i-NUM_TIMESTEPS:i])\n",
    "    test_y.append(y_test.values[i:i+NUM_PREDICTIONS])\n",
    "    \n",
    "test_x, test_y = np.array(test_x), np.array(test_y)\n",
    "\n",
    "print(test_x.shape)\n",
    "print(test_y.shape)"
   ]
  },
  {
   "cell_type": "markdown",
   "metadata": {},
   "source": [
    "# LSTM"
   ]
  },
  {
   "cell_type": "code",
   "execution_count": 40,
   "metadata": {},
   "outputs": [
    {
     "name": "stdout",
     "output_type": "stream",
     "text": [
      "_________________________________________________________________\n",
      "Layer (type)                 Output Shape              Param #   \n",
      "=================================================================\n",
      "lstm_3 (LSTM)                (None, 672, 128)          70656     \n",
      "_________________________________________________________________\n",
      "dropout_3 (Dropout)          (None, 672, 128)          0         \n",
      "_________________________________________________________________\n",
      "lstm_4 (LSTM)                (None, 64)                49408     \n",
      "_________________________________________________________________\n",
      "dropout_4 (Dropout)          (None, 64)                0         \n",
      "_________________________________________________________________\n",
      "dense_2 (Dense)              (None, 16)                1040      \n",
      "=================================================================\n",
      "Total params: 121,104\n",
      "Trainable params: 121,104\n",
      "Non-trainable params: 0\n",
      "_________________________________________________________________\n"
     ]
    }
   ],
   "source": [
    "model = Sequential([\n",
    "    \n",
    "    LSTM(units=128, input_shape=(NUM_TIMESTEPS, NUM_FEATURES), return_sequences=True),\n",
    "    Dropout(0.2),\n",
    "                \n",
    "    LSTM(units=64, return_sequences=False),\n",
    "    Dropout(0.2),\n",
    "\n",
    "    Dense(NUM_PREDICTIONS)\n",
    "])\n",
    "\n",
    "model.compile(optimizer='adam', loss='mean_squared_error', metrics=['accuracy'])\n",
    "model.summary()"
   ]
  },
  {
   "cell_type": "code",
   "execution_count": 41,
   "metadata": {},
   "outputs": [
    {
     "name": "stdout",
     "output_type": "stream",
     "text": [
      "WARNING:tensorflow:From /anaconda3/lib/python3.7/site-packages/tensorflow/python/ops/math_ops.py:3066: to_int32 (from tensorflow.python.ops.math_ops) is deprecated and will be removed in a future version.\n",
      "Instructions for updating:\n",
      "Use tf.cast instead.\n",
      "Train on 290 samples, validate on 4116 samples\n",
      "Epoch 1/10\n",
      "290/290 [==============================] - 14s 49ms/step - loss: 0.0769 - acc: 0.0897 - val_loss: 0.0417 - val_acc: 0.0566\n",
      "Epoch 2/10\n",
      "290/290 [==============================] - 13s 45ms/step - loss: 0.0568 - acc: 0.0517 - val_loss: 0.0365 - val_acc: 0.0581\n",
      "Epoch 3/10\n",
      "290/290 [==============================] - 13s 46ms/step - loss: 0.0470 - acc: 0.0483 - val_loss: 0.0322 - val_acc: 0.0632\n",
      "Epoch 4/10\n",
      "290/290 [==============================] - 14s 47ms/step - loss: 0.0412 - acc: 0.0655 - val_loss: 0.0298 - val_acc: 0.0729\n",
      "Epoch 5/10\n",
      "290/290 [==============================] - 18s 61ms/step - loss: 0.0383 - acc: 0.0897 - val_loss: 0.0284 - val_acc: 0.0960\n",
      "Epoch 6/10\n",
      "290/290 [==============================] - 26s 89ms/step - loss: 0.0362 - acc: 0.1034 - val_loss: 0.0282 - val_acc: 0.0984\n",
      "Epoch 7/10\n",
      "290/290 [==============================] - 22s 77ms/step - loss: 0.0339 - acc: 0.0828 - val_loss: 0.0300 - val_acc: 0.1076\n",
      "Epoch 8/10\n",
      "290/290 [==============================] - 17s 58ms/step - loss: 0.0316 - acc: 0.0621 - val_loss: 0.0322 - val_acc: 0.1028\n"
     ]
    }
   ],
   "source": [
    "from keras.callbacks import EarlyStopping, ModelCheckpoint\n",
    "callbacks = [EarlyStopping(monitor='val_loss', patience=2),\n",
    "             ModelCheckpoint(filepath='best_model.h5', monitor='val_loss', save_best_only=True)]\n",
    "\n",
    "# Default shuffle=True\n",
    "history = model.fit(train_x, train_y,\n",
    "                    epochs=10, batch_size=128, shuffle=False, callbacks=callbacks,\n",
    "                    validation_data=(test_x, test_y))"
   ]
  },
  {
   "cell_type": "markdown",
   "metadata": {},
   "source": [
    "# Results"
   ]
  },
  {
   "cell_type": "markdown",
   "metadata": {},
   "source": [
    "## Loss"
   ]
  },
  {
   "cell_type": "code",
   "execution_count": 49,
   "metadata": {},
   "outputs": [],
   "source": [
    "train_loss = history.history['loss']\n",
    "val_loss = history.history['val_loss']\n",
    "epochs = [x for x in range(len(train_loss))]\n",
    "\n",
    "df_train_loss = pd.DataFrame(train_loss, columns=['train_loss'], index=epochs)\n",
    "df_val_loss   = pd.DataFrame(val_loss, columns=['val_loss'], index=epochs)\n",
    "\n",
    "df_loss = pd.concat([df_train_loss, df_val_loss], axis=1)"
   ]
  },
  {
   "cell_type": "code",
   "execution_count": 50,
   "metadata": {
    "scrolled": true
   },
   "outputs": [
    {
     "data": {
      "text/plain": [
       "<matplotlib.axes._subplots.AxesSubplot at 0x1c40b99828>"
      ]
     },
     "execution_count": 50,
     "metadata": {},
     "output_type": "execute_result"
    },
    {
     "data": {
      "image/png": "[encoded data removed]",
      "text/plain": [
       "<Figure size 1296x360 with 1 Axes>"
      ]
     },
     "metadata": {
      "needs_background": "light"
     },
     "output_type": "display_data"
    }
   ],
   "source": [
    "df_loss.plot(figsize=(18,5))"
   ]
  },
  {
   "cell_type": "markdown",
   "metadata": {},
   "source": [
    "## Accuracy"
   ]
  },
  {
   "cell_type": "code",
   "execution_count": 51,
   "metadata": {},
   "outputs": [],
   "source": [
    "train_acc = history.history['acc']\n",
    "val_acc   = history.history['val_acc']\n",
    "epochs    = [x for x in range(len(train_acc))]\n",
    "\n",
    "df_train_acc = pd.DataFrame(train_acc, columns=['train_acc'], index=epochs)\n",
    "df_val_acc   = pd.DataFrame(val_acc, columns=['val_acc'], index=epochs)\n",
    "\n",
    "df_acc = pd.concat([df_train_acc, df_val_acc], axis=1)"
   ]
  },
  {
   "cell_type": "code",
   "execution_count": 52,
   "metadata": {},
   "outputs": [
    {
     "data": {
      "text/plain": [
       "<matplotlib.axes._subplots.AxesSubplot at 0x1c40a70f28>"
      ]
     },
     "execution_count": 52,
     "metadata": {},
     "output_type": "execute_result"
    },
    {
     "data": {
      "image/png": "[encoded data removed]",
      "text/plain": [
       "<Figure size 1296x360 with 1 Axes>"
      ]
     },
     "metadata": {
      "needs_background": "light"
     },
     "output_type": "display_data"
    }
   ],
   "source": [
    "df_acc.plot(figsize=(18,5))"
   ]
  },
  {
   "cell_type": "markdown",
   "metadata": {},
   "source": [
    "# Predictions"
   ]
  },
  {
   "cell_type": "code",
   "execution_count": 53,
   "metadata": {},
   "outputs": [],
   "source": [
    "pred_y = model.predict(test_x)"
   ]
  },
  {
   "cell_type": "code",
   "execution_count": 54,
   "metadata": {},
   "outputs": [],
   "source": [
    "df_y_pred = pd.DataFrame(scaler.inverse_transform(pred_y),\n",
    "                         index=y_test[NUM_TIMESTEPS:-NUM_PREDICTIONS].index)\n",
    "\n",
    "df_y_true = pd.DataFrame(scaler.inverse_transform(test_y),\n",
    "                         index=y_test[NUM_TIMESTEPS:-NUM_PREDICTIONS].index)"
   ]
  },
  {
   "cell_type": "code",
   "execution_count": 58,
   "metadata": {},
   "outputs": [],
   "source": [
    "timestamp = pd.Timestamp('2018-02-14 22:15:00+00:00')\n",
    "\n",
    "predictions  = df_y_pred.loc[timestamp, :]\n",
    "ground_truth = df_y_true.loc[timestamp, :]\n",
    "\n",
    "df_plot = pd.concat([predictions, ground_truth], axis=1)\n",
    "df_plot.columns = ['pred', 'true']"
   ]
  },
  {
   "cell_type": "code",
   "execution_count": 59,
   "metadata": {},
   "outputs": [
    {
     "data": {
      "text/plain": [
       "<matplotlib.axes._subplots.AxesSubplot at 0x1c40b3f1d0>"
      ]
     },
     "execution_count": 59,
     "metadata": {},
     "output_type": "execute_result"
    },
    {
     "data": {
      "image/png": "[encoded data removed]",
      "text/plain": [
       "<Figure size 1296x360 with 1 Axes>"
      ]
     },
     "metadata": {
      "needs_background": "light"
     },
     "output_type": "display_data"
    }
   ],
   "source": [
    "df_plot.plot(figsize=(18,5))"
   ]
  },
  {
   "cell_type": "code",
   "execution_count": null,
   "metadata": {},
   "outputs": [],
   "source": []
  }
 ],
 "metadata": {
  "kernelspec": {
   "display_name": "Python 3",
   "language": "python",
   "name": "python3"
  },
  "language_info": {
   "codemirror_mode": {
    "name": "ipython",
    "version": 3
   },
   "file_extension": ".py",
   "mimetype": "text/x-python",
   "name": "python",
   "nbconvert_exporter": "python",
   "pygments_lexer": "ipython3",
   "version": "3.7.3"
  }
 },
 "nbformat": 4,
 "nbformat_minor": 2
}
