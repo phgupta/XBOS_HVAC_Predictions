{
 "cells": [
  {
   "cell_type": "code",
   "execution_count": 1,
   "metadata": {},
   "outputs": [
    {
     "name": "stderr",
     "output_type": "stream",
     "text": [
      "Using TensorFlow backend.\n"
     ]
    }
   ],
   "source": [
    "import numpy as np\n",
    "import pandas as pd\n",
    "from scipy import stats\n",
    "from sklearn.preprocessing import MinMaxScaler\n",
    "from sklearn.model_selection import train_test_split\n",
    "from keras.models import Sequential\n",
    "from keras.layers import Dropout, Dense, LSTM, TimeDistributed, RepeatVector\n",
    "from statsmodels.tsa.stattools import adfuller\n",
    "from statsmodels.graphics.tsaplots import plot_acf, plot_pacf\n",
    "\n",
    "import matplotlib.pyplot as plt\n",
    "%matplotlib inline\n",
    "\n",
    "import warnings\n",
    "warnings.filterwarnings('ignore')"
   ]
  },
  {
   "cell_type": "code",
   "execution_count": 2,
   "metadata": {},
   "outputs": [],
   "source": [
    "data_folder = 'data'\n",
    "site = 'avenal-movie-theatre'"
   ]
  },
  {
   "cell_type": "markdown",
   "metadata": {},
   "source": [
    "# Import data"
   ]
  },
  {
   "cell_type": "markdown",
   "metadata": {},
   "source": [
    "# Power consumption data"
   ]
  },
  {
   "cell_type": "code",
   "execution_count": 3,
   "metadata": {},
   "outputs": [
    {
     "data": {
      "text/html": [
       "<div>\n",
       "<style scoped>\n",
       "    .dataframe tbody tr th:only-of-type {\n",
       "        vertical-align: middle;\n",
       "    }\n",
       "\n",
       "    .dataframe tbody tr th {\n",
       "        vertical-align: top;\n",
       "    }\n",
       "\n",
       "    .dataframe thead th {\n",
       "        text-align: right;\n",
       "    }\n",
       "</style>\n",
       "<table border=\"1\" class=\"dataframe\">\n",
       "  <thead>\n",
       "    <tr style=\"text-align: right;\">\n",
       "      <th></th>\n",
       "      <th>power</th>\n",
       "    </tr>\n",
       "    <tr>\n",
       "      <th>datetime</th>\n",
       "      <th></th>\n",
       "    </tr>\n",
       "  </thead>\n",
       "  <tbody>\n",
       "    <tr>\n",
       "      <th>2018-01-01 00:00:04.574889+00:00</th>\n",
       "      <td>400.0</td>\n",
       "    </tr>\n",
       "    <tr>\n",
       "      <th>2018-01-01 00:00:10.215095+00:00</th>\n",
       "      <td>440.0</td>\n",
       "    </tr>\n",
       "    <tr>\n",
       "      <th>2018-01-01 00:00:13.496753+00:00</th>\n",
       "      <td>440.0</td>\n",
       "    </tr>\n",
       "    <tr>\n",
       "      <th>2018-01-01 00:00:20.031088+00:00</th>\n",
       "      <td>440.0</td>\n",
       "    </tr>\n",
       "    <tr>\n",
       "      <th>2018-01-01 00:00:33.525473+00:00</th>\n",
       "      <td>400.0</td>\n",
       "    </tr>\n",
       "  </tbody>\n",
       "</table>\n",
       "</div>"
      ],
      "text/plain": [
       "                                  power\n",
       "datetime                               \n",
       "2018-01-01 00:00:04.574889+00:00  400.0\n",
       "2018-01-01 00:00:10.215095+00:00  440.0\n",
       "2018-01-01 00:00:13.496753+00:00  440.0\n",
       "2018-01-01 00:00:20.031088+00:00  440.0\n",
       "2018-01-01 00:00:33.525473+00:00  400.0"
      ]
     },
     "execution_count": 3,
     "metadata": {},
     "output_type": "execute_result"
    }
   ],
   "source": [
    "df_raw = pd.read_csv(data_folder + '/power_' + site + '.csv', index_col=[0], parse_dates=True)\n",
    "df_raw = df_raw[(df_raw.index < '2019-04-01')]\n",
    "df_raw.head()"
   ]
  },
  {
   "cell_type": "code",
   "execution_count": 4,
   "metadata": {
    "scrolled": true
   },
   "outputs": [
    {
     "data": {
      "text/plain": [
       "<matplotlib.axes._subplots.AxesSubplot at 0x1c2ab1b518>"
      ]
     },
     "execution_count": 4,
     "metadata": {},
     "output_type": "execute_result"
    },
    {
     "data": {
      "image/png": "[encoded data removed]",
      "text/plain": [
       "<Figure size 1296x360 with 1 Axes>"
      ]
     },
     "metadata": {
      "needs_background": "light"
     },
     "output_type": "display_data"
    }
   ],
   "source": [
    "df_raw.plot(figsize=(18,5))"
   ]
  },
  {
   "cell_type": "markdown",
   "metadata": {},
   "source": [
    "# HVAC States data"
   ]
  },
  {
   "cell_type": "code",
   "execution_count": 5,
   "metadata": {},
   "outputs": [],
   "source": [
    "# df_raw_hvac_states = pd.read_csv(data_folder + '/hvac_states_' + site + '.csv', index_col=[0], parse_dates=True)\n",
    "# df_raw_hvac_states.head()"
   ]
  },
  {
   "cell_type": "code",
   "execution_count": 6,
   "metadata": {},
   "outputs": [],
   "source": [
    "# import time\n",
    "# start = time.clock()\n",
    "\n",
    "# for var in list(df_raw_hvac_states.columns):\n",
    "    \n",
    "#     print('var: ', var)\n",
    "\n",
    "#     add_var = pd.get_dummies(df_raw_hvac_states[var], prefix=var, drop_first=True)\n",
    "\n",
    "#     # Add all the columns to the model data\n",
    "#     df_raw_hvac_states = df_raw_hvac_states.join(add_var)\n",
    "\n",
    "#     # Drop the original column that was expanded\n",
    "#     df_raw_hvac_states.drop(columns=[var], inplace=True)\n",
    "    \n",
    "# df_raw_hvac_states.head()\n",
    "\n",
    "# print('Time: ', time.clock() - start)"
   ]
  },
  {
   "cell_type": "code",
   "execution_count": 7,
   "metadata": {},
   "outputs": [],
   "source": [
    "# df_raw = pd.concat([df_raw_power, data], axis=1)\n",
    "# df_raw.head()"
   ]
  },
  {
   "cell_type": "markdown",
   "metadata": {},
   "source": [
    "# Clean data"
   ]
  },
  {
   "cell_type": "markdown",
   "metadata": {},
   "source": [
    "Resample data to 1hour interval, remove outliers and drop NaN's."
   ]
  },
  {
   "cell_type": "code",
   "execution_count": 8,
   "metadata": {},
   "outputs": [
    {
     "data": {
      "text/html": [
       "<div>\n",
       "<style scoped>\n",
       "    .dataframe tbody tr th:only-of-type {\n",
       "        vertical-align: middle;\n",
       "    }\n",
       "\n",
       "    .dataframe tbody tr th {\n",
       "        vertical-align: top;\n",
       "    }\n",
       "\n",
       "    .dataframe thead th {\n",
       "        text-align: right;\n",
       "    }\n",
       "</style>\n",
       "<table border=\"1\" class=\"dataframe\">\n",
       "  <thead>\n",
       "    <tr style=\"text-align: right;\">\n",
       "      <th></th>\n",
       "      <th>power</th>\n",
       "    </tr>\n",
       "    <tr>\n",
       "      <th>datetime</th>\n",
       "      <th></th>\n",
       "    </tr>\n",
       "  </thead>\n",
       "  <tbody>\n",
       "    <tr>\n",
       "      <th>2018-01-01 00:00:00+00:00</th>\n",
       "      <td>416.991150</td>\n",
       "    </tr>\n",
       "    <tr>\n",
       "      <th>2018-01-01 00:15:00+00:00</th>\n",
       "      <td>477.477477</td>\n",
       "    </tr>\n",
       "    <tr>\n",
       "      <th>2018-01-01 00:30:00+00:00</th>\n",
       "      <td>430.990991</td>\n",
       "    </tr>\n",
       "    <tr>\n",
       "      <th>2018-01-01 00:45:00+00:00</th>\n",
       "      <td>504.081633</td>\n",
       "    </tr>\n",
       "    <tr>\n",
       "      <th>2018-01-01 01:00:00+00:00</th>\n",
       "      <td>453.565217</td>\n",
       "    </tr>\n",
       "  </tbody>\n",
       "</table>\n",
       "</div>"
      ],
      "text/plain": [
       "                                power\n",
       "datetime                             \n",
       "2018-01-01 00:00:00+00:00  416.991150\n",
       "2018-01-01 00:15:00+00:00  477.477477\n",
       "2018-01-01 00:30:00+00:00  430.990991\n",
       "2018-01-01 00:45:00+00:00  504.081633\n",
       "2018-01-01 01:00:00+00:00  453.565217"
      ]
     },
     "execution_count": 8,
     "metadata": {},
     "output_type": "execute_result"
    }
   ],
   "source": [
    "df_processed = df_raw.resample('15T').mean()\n",
    "df_processed = df_processed[df_processed['power'] < 10000000]\n",
    "df_processed = df_processed[(np.abs(stats.zscore(df_processed)) < float(3)).all(axis=1)]\n",
    "df_processed.dropna(inplace=True)\n",
    "df_processed.head()"
   ]
  },
  {
   "cell_type": "code",
   "execution_count": 9,
   "metadata": {
    "scrolled": true
   },
   "outputs": [
    {
     "data": {
      "text/plain": [
       "<matplotlib.axes._subplots.AxesSubplot at 0x1c49b2f128>"
      ]
     },
     "execution_count": 9,
     "metadata": {},
     "output_type": "execute_result"
    },
    {
     "data": {
      "image/png": "[encoded data removed]",
      "text/plain": [
       "<Figure size 1296x360 with 1 Axes>"
      ]
     },
     "metadata": {
      "needs_background": "light"
     },
     "output_type": "display_data"
    }
   ],
   "source": [
    "df_processed.plot(figsize=(18,5))"
   ]
  },
  {
   "cell_type": "markdown",
   "metadata": {},
   "source": [
    "# Add quarterly box plots"
   ]
  },
  {
   "cell_type": "markdown",
   "metadata": {},
   "source": [
    "# Check for stationarity\n",
    "# Make data stationary"
   ]
  },
  {
   "cell_type": "markdown",
   "metadata": {},
   "source": [
    "# Normalize data"
   ]
  },
  {
   "cell_type": "code",
   "execution_count": 10,
   "metadata": {},
   "outputs": [
    {
     "data": {
      "text/html": [
       "<div>\n",
       "<style scoped>\n",
       "    .dataframe tbody tr th:only-of-type {\n",
       "        vertical-align: middle;\n",
       "    }\n",
       "\n",
       "    .dataframe tbody tr th {\n",
       "        vertical-align: top;\n",
       "    }\n",
       "\n",
       "    .dataframe thead th {\n",
       "        text-align: right;\n",
       "    }\n",
       "</style>\n",
       "<table border=\"1\" class=\"dataframe\">\n",
       "  <thead>\n",
       "    <tr style=\"text-align: right;\">\n",
       "      <th></th>\n",
       "      <th>power</th>\n",
       "    </tr>\n",
       "    <tr>\n",
       "      <th>datetime</th>\n",
       "      <th></th>\n",
       "    </tr>\n",
       "  </thead>\n",
       "  <tbody>\n",
       "    <tr>\n",
       "      <th>2018-01-01 00:00:00+00:00</th>\n",
       "      <td>0.016522</td>\n",
       "    </tr>\n",
       "    <tr>\n",
       "      <th>2018-01-01 00:15:00+00:00</th>\n",
       "      <td>0.026825</td>\n",
       "    </tr>\n",
       "    <tr>\n",
       "      <th>2018-01-01 00:30:00+00:00</th>\n",
       "      <td>0.018907</td>\n",
       "    </tr>\n",
       "    <tr>\n",
       "      <th>2018-01-01 00:45:00+00:00</th>\n",
       "      <td>0.031357</td>\n",
       "    </tr>\n",
       "    <tr>\n",
       "      <th>2018-01-01 01:00:00+00:00</th>\n",
       "      <td>0.022752</td>\n",
       "    </tr>\n",
       "  </tbody>\n",
       "</table>\n",
       "</div>"
      ],
      "text/plain": [
       "                              power\n",
       "datetime                           \n",
       "2018-01-01 00:00:00+00:00  0.016522\n",
       "2018-01-01 00:15:00+00:00  0.026825\n",
       "2018-01-01 00:30:00+00:00  0.018907\n",
       "2018-01-01 00:45:00+00:00  0.031357\n",
       "2018-01-01 01:00:00+00:00  0.022752"
      ]
     },
     "execution_count": 10,
     "metadata": {},
     "output_type": "execute_result"
    }
   ],
   "source": [
    "scaler = MinMaxScaler(feature_range=(0,1))\n",
    "df_normalized = pd.DataFrame(scaler.fit_transform(df_processed), \n",
    "                             columns=df_processed.columns, index=df_processed.index)\n",
    "df_normalized.head()"
   ]
  },
  {
   "cell_type": "code",
   "execution_count": 11,
   "metadata": {},
   "outputs": [
    {
     "data": {
      "text/plain": [
       "(40343, 1)"
      ]
     },
     "execution_count": 11,
     "metadata": {},
     "output_type": "execute_result"
    }
   ],
   "source": [
    "df_normalized.shape"
   ]
  },
  {
   "cell_type": "markdown",
   "metadata": {},
   "source": [
    "# Check for stationarity"
   ]
  },
  {
   "cell_type": "markdown",
   "metadata": {},
   "source": [
    "Since Test Statistic < Critical Value (1%) --> Data is stationary"
   ]
  },
  {
   "cell_type": "code",
   "execution_count": 12,
   "metadata": {},
   "outputs": [
    {
     "data": {
      "text/plain": [
       "Test Statistic            -30.665127\n",
       "p-value                     0.000000\n",
       "#Lags Used                 48.000000\n",
       "#Observations Used      40294.000000\n",
       "Critical Value (1%)        -3.430512\n",
       "Critical Value (5%)        -2.861612\n",
       "Critical Value (10%)       -2.566808\n",
       "dtype: float64"
      ]
     },
     "execution_count": 12,
     "metadata": {},
     "output_type": "execute_result"
    }
   ],
   "source": [
    "result = adfuller(df_normalized['power'], autolag='AIC')\n",
    "output = pd.Series(result[0:4], index=['Test Statistic', 'p-value', '#Lags Used',\n",
    "                                      '#Observations Used'])\n",
    "for key, value in result[4].items():\n",
    "    output['Critical Value (%s)' % key] = value\n",
    "    \n",
    "output"
   ]
  },
  {
   "cell_type": "markdown",
   "metadata": {},
   "source": [
    "# ACF and PACF"
   ]
  },
  {
   "cell_type": "code",
   "execution_count": 13,
   "metadata": {},
   "outputs": [
    {
     "data": {
      "image/png": "[encoded data removed]",
      "text/plain": [
       "<Figure size 432x288 with 1 Axes>"
      ]
     },
     "metadata": {
      "needs_background": "light"
     },
     "output_type": "display_data"
    },
    {
     "data": {
      "image/png": "[encoded data removed]",
      "text/plain": [
       "<Figure size 432x288 with 1 Axes>"
      ]
     },
     "metadata": {
      "needs_background": "light"
     },
     "output_type": "display_data"
    }
   ],
   "source": [
    "fig1 = plot_acf(df_normalized, lags=100)\n",
    "fig2 = plot_pacf(df_normalized, lags=100)"
   ]
  },
  {
   "cell_type": "markdown",
   "metadata": {},
   "source": [
    "# Prepare data"
   ]
  },
  {
   "cell_type": "code",
   "execution_count": 14,
   "metadata": {},
   "outputs": [
    {
     "name": "stdout",
     "output_type": "stream",
     "text": [
      "(32248, 10, 1)\n",
      "(32248, 16, 1)\n"
     ]
    }
   ],
   "source": [
    "train_size = int(0.8 * len(df_normalized.values))\n",
    "training_set = df_normalized.values[:train_size]\n",
    "X_train, y_train = [], []\n",
    "\n",
    "for i in range(10, len(training_set)-16):\n",
    "    X_train.append(training_set[i-10:i])\n",
    "    y_train.append(training_set[i:i+16])\n",
    "    \n",
    "X_train, y_train = np.array(X_train), np.array(y_train)\n",
    "\n",
    "# # Reshaping\n",
    "# X_train = np.reshape(X_train, (X_train.shape[0], X_train.shape[1], 1))\n",
    "# y_train = np.reshape(y_train, (y_train.shape[0]))\n",
    "\n",
    "print(X_train.shape)\n",
    "print(y_train.shape)"
   ]
  },
  {
   "cell_type": "code",
   "execution_count": 18,
   "metadata": {},
   "outputs": [],
   "source": [
    "y_train = np.reshape(y_train, (y_train.shape[0], y_train.shape[1]))"
   ]
  },
  {
   "cell_type": "code",
   "execution_count": 19,
   "metadata": {},
   "outputs": [
    {
     "data": {
      "text/plain": [
       "(32248, 16)"
      ]
     },
     "execution_count": 19,
     "metadata": {},
     "output_type": "execute_result"
    }
   ],
   "source": [
    "y_train.shape"
   ]
  },
  {
   "cell_type": "markdown",
   "metadata": {},
   "source": [
    "# LSTM"
   ]
  },
  {
   "cell_type": "code",
   "execution_count": 52,
   "metadata": {},
   "outputs": [],
   "source": [
    "model = Sequential()\n",
    "\n",
    "model.add(LSTM(units=128, input_shape=(X_train.shape[1], 1), activation='relu', return_sequences=True))\n",
    "model.add(Dropout(0.2))\n",
    "\n",
    "# model.add(RepeatVector(n=16))\n",
    "\n",
    "model.add(LSTM(units=128, activation='relu', return_sequences=True))\n",
    "model.add(Dropout(0.2))\n",
    "\n",
    "model.add(LSTM(units=128, activation='softmax', return_sequences=False))\n",
    "model.add(Dropout(0.2))\n",
    "\n",
    "# model.add(TimeDistributed(Dense(units=1)))\n",
    "model.add(Dense(16))\n",
    "\n",
    "model.compile(optimizer='adam', loss='mean_squared_error', metrics=['accuracy'])"
   ]
  },
  {
   "cell_type": "code",
   "execution_count": 53,
   "metadata": {},
   "outputs": [
    {
     "name": "stdout",
     "output_type": "stream",
     "text": [
      "_________________________________________________________________\n",
      "Layer (type)                 Output Shape              Param #   \n",
      "=================================================================\n",
      "lstm_10 (LSTM)               (None, 10, 128)           66560     \n",
      "_________________________________________________________________\n",
      "dropout_10 (Dropout)         (None, 10, 128)           0         \n",
      "_________________________________________________________________\n",
      "lstm_11 (LSTM)               (None, 10, 128)           131584    \n",
      "_________________________________________________________________\n",
      "dropout_11 (Dropout)         (None, 10, 128)           0         \n",
      "_________________________________________________________________\n",
      "lstm_12 (LSTM)               (None, 128)               131584    \n",
      "_________________________________________________________________\n",
      "dropout_12 (Dropout)         (None, 128)               0         \n",
      "_________________________________________________________________\n",
      "dense_4 (Dense)              (None, 16)                2064      \n",
      "=================================================================\n",
      "Total params: 331,792\n",
      "Trainable params: 331,792\n",
      "Non-trainable params: 0\n",
      "_________________________________________________________________\n"
     ]
    }
   ],
   "source": [
    "model.summary()"
   ]
  },
  {
   "cell_type": "code",
   "execution_count": 57,
   "metadata": {},
   "outputs": [
    {
     "name": "stdout",
     "output_type": "stream",
     "text": [
      "Epoch 1/5\n",
      "32248/32248 [==============================] - 23s 704us/step - loss: 0.0198 - acc: 0.1621\n",
      "Epoch 2/5\n",
      "32248/32248 [==============================] - 23s 720us/step - loss: 0.0196 - acc: 0.1616\n",
      "Epoch 3/5\n",
      "32248/32248 [==============================] - 24s 758us/step - loss: 0.0193 - acc: 0.1629\n",
      "Epoch 4/5\n",
      "32248/32248 [==============================] - 27s 853us/step - loss: 0.0192 - acc: 0.1627\n",
      "Epoch 5/5\n",
      "32248/32248 [==============================] - 29s 900us/step - loss: 0.0191 - acc: 0.1615\n"
     ]
    }
   ],
   "source": [
    "historyr = model.fit(X_train, y_train, epochs=5)"
   ]
  },
  {
   "cell_type": "code",
   "execution_count": 60,
   "metadata": {},
   "outputs": [],
   "source": [
    "loss = historyr.history['loss']\n",
    "acc  = historyr.history['acc']\n",
    "epochs = [x for x in range(len(loss))]"
   ]
  },
  {
   "cell_type": "code",
   "execution_count": 64,
   "metadata": {},
   "outputs": [
    {
     "data": {
      "text/plain": [
       "[0.1620875713231767,\n",
       " 0.16159141652195486,\n",
       " 0.16289382286903964,\n",
       " 0.162707764818928,\n",
       " 0.1614983874932024]"
      ]
     },
     "execution_count": 64,
     "metadata": {},
     "output_type": "execute_result"
    }
   ],
   "source": [
    "acc"
   ]
  },
  {
   "cell_type": "code",
   "execution_count": 65,
   "metadata": {},
   "outputs": [
    {
     "data": {
      "text/plain": [
       "[<matplotlib.lines.Line2D at 0x1c534c5c88>]"
      ]
     },
     "execution_count": 65,
     "metadata": {},
     "output_type": "execute_result"
    },
    {
     "data": {
      "image/png": "[encoded data removed]",
      "text/plain": [
       "<Figure size 432x288 with 1 Axes>"
      ]
     },
     "metadata": {
      "needs_background": "light"
     },
     "output_type": "display_data"
    }
   ],
   "source": [
    "plt.plot(epochs, loss)"
   ]
  },
  {
   "cell_type": "code",
   "execution_count": 66,
   "metadata": {},
   "outputs": [
    {
     "data": {
      "text/plain": [
       "[<matplotlib.lines.Line2D at 0x1c5a4c1748>]"
      ]
     },
     "execution_count": 66,
     "metadata": {},
     "output_type": "execute_result"
    },
    {
     "data": {
      "image/png": "[encoded data removed]",
      "text/plain": [
       "<Figure size 432x288 with 1 Axes>"
      ]
     },
     "metadata": {
      "needs_background": "light"
     },
     "output_type": "display_data"
    }
   ],
   "source": [
    "plt.plot(epochs, loss)"
   ]
  },
  {
   "cell_type": "code",
   "execution_count": 23,
   "metadata": {},
   "outputs": [
    {
     "name": "stdout",
     "output_type": "stream",
     "text": [
      "(8043, 10, 1)\n",
      "(8043, 16)\n"
     ]
    }
   ],
   "source": [
    "testing_set = df_normalized.values[train_size:]\n",
    "X_test, y_test = [], []\n",
    "\n",
    "for i in range(10, len(testing_set)-16):\n",
    "    X_test.append(testing_set[i-10:i])\n",
    "    y_test.append(testing_set[i:i+16])    \n",
    "\n",
    "X_test, y_test = np.array(X_test), np.array(y_test)\n",
    "    \n",
    "# Reshaping\n",
    "X_test = np.reshape(X_test, (X_test.shape[0], X_test.shape[1], 1))\n",
    "y_test = np.reshape(y_test, (y_test.shape[0], y_test.shape[1]))\n",
    "\n",
    "print(X_test.shape)\n",
    "print(y_test.shape)"
   ]
  },
  {
   "cell_type": "code",
   "execution_count": 24,
   "metadata": {},
   "outputs": [],
   "source": [
    "y_pred_normalized = model.predict(X_test)\n",
    "y_pred_normalized.shape"
   ]
  },
  {
   "cell_type": "code",
   "execution_count": 50,
   "metadata": {},
   "outputs": [
    {
     "data": {
      "image/png": "[encoded data removed]",
      "text/plain": [
       "<Figure size 1296x360 with 1 Axes>"
      ]
     },
     "metadata": {
      "needs_background": "light"
     },
     "output_type": "display_data"
    }
   ],
   "source": [
    "for i in range(len(y_pred_normalized)):\n",
    "    df_y_pred_normalized = pd.DataFrame(y_pred_normalized[i],\n",
    "                                        index=df_normalized.values[train_size+i:train_size+i+16],\n",
    "                                        columns=df_normalized.columns)\n",
    "    pred_value = scaler.inverse_transform(df_y_pred_normalized)\n",
    "    \n",
    "    \n",
    "    df_y_true_normalized = pd.DataFrame(y_test[i],\n",
    "                                        index=df_normalized.values[train_size+i:train_size+i+16],\n",
    "                                        columns=df_normalized.columns)\n",
    "    truth_value = scaler.inverse_transform(df_y_true_normalized)\n",
    "    \n",
    "    # print(len(truth_value))\n",
    "    # break\n",
    "    \n",
    "    df_plot = pd.concat([pd.DataFrame(pred_value, columns=['pred']), \n",
    "                         pd.DataFrame(truth_value, columns=['truth'])], axis=1)\n",
    "    df_plot.plot(figsize=(18,5))\n",
    "    \n",
    "    break"
   ]
  },
  {
   "cell_type": "code",
   "execution_count": 32,
   "metadata": {},
   "outputs": [],
   "source": [
    "# new_y_pred = []\n",
    "# for i in range(y_pred_normalized.shape[0]):\n",
    "#     temp = scaler.inverse_transform(y_pred_normalized[i])\n",
    "#     new_y_pred.append(temp)"
   ]
  },
  {
   "cell_type": "code",
   "execution_count": 33,
   "metadata": {},
   "outputs": [],
   "source": [
    "# y_pred = scaler.inverse_transform(y_pred_normalized)\n",
    "\n",
    "# df_y_pred = pd.DataFrame(y_pred, \n",
    "#                          columns=df_normalized[train_size:].columns, \n",
    "#                          index=df_normalized[train_size+10:].index)\n",
    "# df_y_pred.head()"
   ]
  },
  {
   "cell_type": "code",
   "execution_count": 34,
   "metadata": {},
   "outputs": [],
   "source": [
    "# y_true = scaler.inverse_transform([y_test])\n",
    "# y_true_reshape = np.reshape(y_true, (y_true.shape[1], y_true.shape[0]))\n",
    "# df_y_test = pd.DataFrame(y_true_reshape, \n",
    "#                          columns=df_normalized[train_size:].columns, \n",
    "#                          index=df_normalized[train_size+10:].index)\n",
    "# df_y_test.head()"
   ]
  },
  {
   "cell_type": "code",
   "execution_count": null,
   "metadata": {},
   "outputs": [],
   "source": [
    "# df_plot = pd.concat([df_y_pred, df_y_test], axis=1)\n",
    "# df_plot.columns = ['y_pred', 'y_true']\n",
    "# df_plot.plot(figsize=(18,5))"
   ]
  },
  {
   "cell_type": "markdown",
   "metadata": {},
   "source": [
    "# Plots"
   ]
  },
  {
   "cell_type": "markdown",
   "metadata": {},
   "source": [
    "## Training & Testing Error"
   ]
  },
  {
   "cell_type": "markdown",
   "metadata": {},
   "source": [
    "## Predictions"
   ]
  },
  {
   "cell_type": "code",
   "execution_count": null,
   "metadata": {},
   "outputs": [],
   "source": []
  }
 ],
 "metadata": {
  "kernelspec": {
   "display_name": "Python 3",
   "language": "python",
   "name": "python3"
  },
  "language_info": {
   "codemirror_mode": {
    "name": "ipython",
    "version": 3
   },
   "file_extension": ".py",
   "mimetype": "text/x-python",
   "name": "python",
   "nbconvert_exporter": "python",
   "pygments_lexer": "ipython3",
   "version": "3.7.3"
  }
 },
 "nbformat": 4,
 "nbformat_minor": 2
}
