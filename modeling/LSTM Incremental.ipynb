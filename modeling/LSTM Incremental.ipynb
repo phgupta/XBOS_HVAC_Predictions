{
 "cells": [
  {
   "cell_type": "markdown",
   "metadata": {},
   "source": [
    "# To Do\n",
    "\n",
    "1. Look into stateful/stateless LSTM.\n",
    "2. Making multiple predictions into the future (many-to-many-LSTM?)\n",
    "3. Add data in batches\n",
    "4. Time Features: HVAC States, holidays\n",
    "5. Test on all buildings (Green_Button_Meter)"
   ]
  },
  {
   "cell_type": "code",
   "execution_count": 1,
   "metadata": {},
   "outputs": [
    {
     "name": "stderr",
     "output_type": "stream",
     "text": [
      "Using TensorFlow backend.\n"
     ]
    }
   ],
   "source": [
    "import numpy as np\n",
    "import pandas as pd\n",
    "from scipy import stats\n",
    "from sklearn.preprocessing import MinMaxScaler\n",
    "from sklearn.model_selection import train_test_split\n",
    "from keras.models import Sequential\n",
    "from keras.layers import Dropout, Dense, LSTM\n",
    "from statsmodels.tsa.stattools import adfuller\n",
    "from statsmodels.graphics.tsaplots import plot_acf, plot_pacf\n",
    "\n",
    "import matplotlib.pyplot as plt\n",
    "%matplotlib inline\n",
    "\n",
    "import warnings\n",
    "warnings.filterwarnings('ignore')"
   ]
  },
  {
   "cell_type": "code",
   "execution_count": 2,
   "metadata": {},
   "outputs": [],
   "source": [
    "data_folder = 'data'\n",
    "site = 'avenal-movie-theatre'"
   ]
  },
  {
   "cell_type": "markdown",
   "metadata": {},
   "source": [
    "# Import data"
   ]
  },
  {
   "cell_type": "markdown",
   "metadata": {},
   "source": [
    "## Eagle (power) data"
   ]
  },
  {
   "cell_type": "code",
   "execution_count": 3,
   "metadata": {},
   "outputs": [
    {
     "data": {
      "text/html": [
       "<div>\n",
       "<style scoped>\n",
       "    .dataframe tbody tr th:only-of-type {\n",
       "        vertical-align: middle;\n",
       "    }\n",
       "\n",
       "    .dataframe tbody tr th {\n",
       "        vertical-align: top;\n",
       "    }\n",
       "\n",
       "    .dataframe thead th {\n",
       "        text-align: right;\n",
       "    }\n",
       "</style>\n",
       "<table border=\"1\" class=\"dataframe\">\n",
       "  <thead>\n",
       "    <tr style=\"text-align: right;\">\n",
       "      <th></th>\n",
       "      <th>power</th>\n",
       "    </tr>\n",
       "    <tr>\n",
       "      <th>datetime</th>\n",
       "      <th></th>\n",
       "    </tr>\n",
       "  </thead>\n",
       "  <tbody>\n",
       "    <tr>\n",
       "      <th>2018-01-01 00:00:04.574889+00:00</th>\n",
       "      <td>400.0</td>\n",
       "    </tr>\n",
       "    <tr>\n",
       "      <th>2018-01-01 00:00:10.215095+00:00</th>\n",
       "      <td>440.0</td>\n",
       "    </tr>\n",
       "    <tr>\n",
       "      <th>2018-01-01 00:00:13.496753+00:00</th>\n",
       "      <td>440.0</td>\n",
       "    </tr>\n",
       "    <tr>\n",
       "      <th>2018-01-01 00:00:20.031088+00:00</th>\n",
       "      <td>440.0</td>\n",
       "    </tr>\n",
       "    <tr>\n",
       "      <th>2018-01-01 00:00:33.525473+00:00</th>\n",
       "      <td>400.0</td>\n",
       "    </tr>\n",
       "  </tbody>\n",
       "</table>\n",
       "</div>"
      ],
      "text/plain": [
       "                                  power\n",
       "datetime                               \n",
       "2018-01-01 00:00:04.574889+00:00  400.0\n",
       "2018-01-01 00:00:10.215095+00:00  440.0\n",
       "2018-01-01 00:00:13.496753+00:00  440.0\n",
       "2018-01-01 00:00:20.031088+00:00  440.0\n",
       "2018-01-01 00:00:33.525473+00:00  400.0"
      ]
     },
     "execution_count": 3,
     "metadata": {},
     "output_type": "execute_result"
    }
   ],
   "source": [
    "df_raw = pd.read_csv(data_folder + '/power_' + site + '.csv', index_col=[0], parse_dates=True)\n",
    "df_raw = df_raw[(df_raw.index < '2019-04-01')]\n",
    "df_raw.head()"
   ]
  },
  {
   "cell_type": "code",
   "execution_count": 4,
   "metadata": {},
   "outputs": [
    {
     "data": {
      "text/plain": [
       "<matplotlib.axes._subplots.AxesSubplot at 0x1c2a02c390>"
      ]
     },
     "execution_count": 4,
     "metadata": {},
     "output_type": "execute_result"
    },
    {
     "data": {
      "image/png": "[encoded data removed]",
      "text/plain": [
       "<Figure size 1296x360 with 1 Axes>"
      ]
     },
     "metadata": {
      "needs_background": "light"
     },
     "output_type": "display_data"
    }
   ],
   "source": [
    "df_raw.plot(figsize=(18,5))"
   ]
  },
  {
   "cell_type": "code",
   "execution_count": 5,
   "metadata": {},
   "outputs": [
    {
     "data": {
      "text/html": [
       "<div>\n",
       "<style scoped>\n",
       "    .dataframe tbody tr th:only-of-type {\n",
       "        vertical-align: middle;\n",
       "    }\n",
       "\n",
       "    .dataframe tbody tr th {\n",
       "        vertical-align: top;\n",
       "    }\n",
       "\n",
       "    .dataframe thead th {\n",
       "        text-align: right;\n",
       "    }\n",
       "</style>\n",
       "<table border=\"1\" class=\"dataframe\">\n",
       "  <thead>\n",
       "    <tr style=\"text-align: right;\">\n",
       "      <th></th>\n",
       "      <th>power</th>\n",
       "    </tr>\n",
       "    <tr>\n",
       "      <th>datetime</th>\n",
       "      <th></th>\n",
       "    </tr>\n",
       "  </thead>\n",
       "  <tbody>\n",
       "    <tr>\n",
       "      <th>2018-01-01 00:00:00+00:00</th>\n",
       "      <td>416.991150</td>\n",
       "    </tr>\n",
       "    <tr>\n",
       "      <th>2018-01-01 00:15:00+00:00</th>\n",
       "      <td>477.477477</td>\n",
       "    </tr>\n",
       "    <tr>\n",
       "      <th>2018-01-01 00:30:00+00:00</th>\n",
       "      <td>430.990991</td>\n",
       "    </tr>\n",
       "    <tr>\n",
       "      <th>2018-01-01 00:45:00+00:00</th>\n",
       "      <td>504.081633</td>\n",
       "    </tr>\n",
       "    <tr>\n",
       "      <th>2018-01-01 01:00:00+00:00</th>\n",
       "      <td>453.565217</td>\n",
       "    </tr>\n",
       "  </tbody>\n",
       "</table>\n",
       "</div>"
      ],
      "text/plain": [
       "                                power\n",
       "datetime                             \n",
       "2018-01-01 00:00:00+00:00  416.991150\n",
       "2018-01-01 00:15:00+00:00  477.477477\n",
       "2018-01-01 00:30:00+00:00  430.990991\n",
       "2018-01-01 00:45:00+00:00  504.081633\n",
       "2018-01-01 01:00:00+00:00  453.565217"
      ]
     },
     "execution_count": 5,
     "metadata": {},
     "output_type": "execute_result"
    }
   ],
   "source": [
    "df_processed = df_raw.resample('15T').mean()\n",
    "df_processed = df_processed[df_processed['power'] < 10000000]\n",
    "df_processed = df_processed[(np.abs(stats.zscore(df_processed)) < float(3)).all(axis=1)]\n",
    "df_processed.dropna(inplace=True)\n",
    "df_processed.head()"
   ]
  },
  {
   "cell_type": "code",
   "execution_count": 6,
   "metadata": {
    "scrolled": true
   },
   "outputs": [
    {
     "data": {
      "text/plain": [
       "<matplotlib.axes._subplots.AxesSubplot at 0x106345c18>"
      ]
     },
     "execution_count": 6,
     "metadata": {},
     "output_type": "execute_result"
    },
    {
     "data": {
      "image/png": "[encoded data removed]",
      "text/plain": [
       "<Figure size 1296x360 with 1 Axes>"
      ]
     },
     "metadata": {
      "needs_background": "light"
     },
     "output_type": "display_data"
    }
   ],
   "source": [
    "df_processed.plot(figsize=(18,5))"
   ]
  },
  {
   "cell_type": "markdown",
   "metadata": {},
   "source": [
    "## Normalize data"
   ]
  },
  {
   "cell_type": "code",
   "execution_count": 9,
   "metadata": {
    "scrolled": true
   },
   "outputs": [
    {
     "data": {
      "text/html": [
       "<div>\n",
       "<style scoped>\n",
       "    .dataframe tbody tr th:only-of-type {\n",
       "        vertical-align: middle;\n",
       "    }\n",
       "\n",
       "    .dataframe tbody tr th {\n",
       "        vertical-align: top;\n",
       "    }\n",
       "\n",
       "    .dataframe thead th {\n",
       "        text-align: right;\n",
       "    }\n",
       "</style>\n",
       "<table border=\"1\" class=\"dataframe\">\n",
       "  <thead>\n",
       "    <tr style=\"text-align: right;\">\n",
       "      <th></th>\n",
       "      <th>power</th>\n",
       "    </tr>\n",
       "    <tr>\n",
       "      <th>datetime</th>\n",
       "      <th></th>\n",
       "    </tr>\n",
       "  </thead>\n",
       "  <tbody>\n",
       "    <tr>\n",
       "      <th>2018-01-01 00:00:00+00:00</th>\n",
       "      <td>0.016522</td>\n",
       "    </tr>\n",
       "    <tr>\n",
       "      <th>2018-01-01 00:15:00+00:00</th>\n",
       "      <td>0.026825</td>\n",
       "    </tr>\n",
       "    <tr>\n",
       "      <th>2018-01-01 00:30:00+00:00</th>\n",
       "      <td>0.018907</td>\n",
       "    </tr>\n",
       "    <tr>\n",
       "      <th>2018-01-01 00:45:00+00:00</th>\n",
       "      <td>0.031357</td>\n",
       "    </tr>\n",
       "    <tr>\n",
       "      <th>2018-01-01 01:00:00+00:00</th>\n",
       "      <td>0.022752</td>\n",
       "    </tr>\n",
       "  </tbody>\n",
       "</table>\n",
       "</div>"
      ],
      "text/plain": [
       "                              power\n",
       "datetime                           \n",
       "2018-01-01 00:00:00+00:00  0.016522\n",
       "2018-01-01 00:15:00+00:00  0.026825\n",
       "2018-01-01 00:30:00+00:00  0.018907\n",
       "2018-01-01 00:45:00+00:00  0.031357\n",
       "2018-01-01 01:00:00+00:00  0.022752"
      ]
     },
     "execution_count": 9,
     "metadata": {},
     "output_type": "execute_result"
    }
   ],
   "source": [
    "scaler = MinMaxScaler(feature_range=(0,1))\n",
    "df_normalized = pd.DataFrame(scaler.fit_transform(df_processed), \n",
    "                             columns=df_processed.columns, index=df_processed.index)\n",
    "df_normalized.head()"
   ]
  },
  {
   "cell_type": "markdown",
   "metadata": {},
   "source": [
    "## Check for missing data"
   ]
  },
  {
   "cell_type": "code",
   "execution_count": 21,
   "metadata": {
    "scrolled": true
   },
   "outputs": [
    {
     "data": {
      "text/plain": [
       "power    False\n",
       "dtype: bool"
      ]
     },
     "execution_count": 21,
     "metadata": {},
     "output_type": "execute_result"
    }
   ],
   "source": [
    "df_normalized.isna().any()"
   ]
  },
  {
   "cell_type": "markdown",
   "metadata": {},
   "source": [
    "## Check for stationarity"
   ]
  },
  {
   "cell_type": "code",
   "execution_count": 10,
   "metadata": {},
   "outputs": [
    {
     "data": {
      "text/plain": [
       "Test Statistic            -30.665127\n",
       "p-value                     0.000000\n",
       "#Lags Used                 48.000000\n",
       "#Observations Used      40294.000000\n",
       "Critical Value (1%)        -3.430512\n",
       "Critical Value (5%)        -2.861612\n",
       "Critical Value (10%)       -2.566808\n",
       "dtype: float64"
      ]
     },
     "execution_count": 10,
     "metadata": {},
     "output_type": "execute_result"
    }
   ],
   "source": [
    "result = adfuller(df_normalized['power'], autolag='AIC')\n",
    "output = pd.Series(result[0:4], index=['Test Statistic', 'p-value', '#Lags Used',\n",
    "                                      '#Observations Used'])\n",
    "for key, value in result[4].items():\n",
    "    output['Critical Value (%s)' % key] = value\n",
    "    \n",
    "output"
   ]
  },
  {
   "cell_type": "markdown",
   "metadata": {},
   "source": [
    "## HVAC States data"
   ]
  },
  {
   "cell_type": "code",
   "execution_count": 12,
   "metadata": {
    "scrolled": true
   },
   "outputs": [
    {
     "data": {
      "text/html": [
       "<div>\n",
       "<style scoped>\n",
       "    .dataframe tbody tr th:only-of-type {\n",
       "        vertical-align: middle;\n",
       "    }\n",
       "\n",
       "    .dataframe tbody tr th {\n",
       "        vertical-align: top;\n",
       "    }\n",
       "\n",
       "    .dataframe thead th {\n",
       "        text-align: right;\n",
       "    }\n",
       "</style>\n",
       "<table border=\"1\" class=\"dataframe\">\n",
       "  <thead>\n",
       "    <tr style=\"text-align: right;\">\n",
       "      <th></th>\n",
       "      <th>hvac_zone_lobby</th>\n",
       "      <th>hvac_zone_main_hallway</th>\n",
       "      <th>hvac_zone_room_a</th>\n",
       "      <th>hvac_zone_theater_2</th>\n",
       "      <th>hvac_zone_back_hallway</th>\n",
       "      <th>hvac_zone_room_d</th>\n",
       "      <th>hvac_zone_pegasus_hall</th>\n",
       "      <th>hvac_zone_theater_1</th>\n",
       "    </tr>\n",
       "  </thead>\n",
       "  <tbody>\n",
       "    <tr>\n",
       "      <th>2018-01-01 00:00:00+00:00</th>\n",
       "      <td>0.0</td>\n",
       "      <td>1.0</td>\n",
       "      <td>0.0</td>\n",
       "      <td>0.0</td>\n",
       "      <td>0.0</td>\n",
       "      <td>0.0</td>\n",
       "      <td>0.0</td>\n",
       "      <td>0.0</td>\n",
       "    </tr>\n",
       "    <tr>\n",
       "      <th>2018-01-01 00:05:00+00:00</th>\n",
       "      <td>0.0</td>\n",
       "      <td>1.0</td>\n",
       "      <td>0.0</td>\n",
       "      <td>0.0</td>\n",
       "      <td>0.0</td>\n",
       "      <td>0.0</td>\n",
       "      <td>0.0</td>\n",
       "      <td>0.0</td>\n",
       "    </tr>\n",
       "    <tr>\n",
       "      <th>2018-01-01 00:10:00+00:00</th>\n",
       "      <td>0.0</td>\n",
       "      <td>1.0</td>\n",
       "      <td>0.0</td>\n",
       "      <td>0.0</td>\n",
       "      <td>0.0</td>\n",
       "      <td>0.0</td>\n",
       "      <td>0.0</td>\n",
       "      <td>0.0</td>\n",
       "    </tr>\n",
       "    <tr>\n",
       "      <th>2018-01-01 00:15:00+00:00</th>\n",
       "      <td>0.0</td>\n",
       "      <td>1.0</td>\n",
       "      <td>0.0</td>\n",
       "      <td>0.0</td>\n",
       "      <td>0.0</td>\n",
       "      <td>0.0</td>\n",
       "      <td>0.0</td>\n",
       "      <td>0.0</td>\n",
       "    </tr>\n",
       "    <tr>\n",
       "      <th>2018-01-01 00:20:00+00:00</th>\n",
       "      <td>0.0</td>\n",
       "      <td>1.0</td>\n",
       "      <td>0.0</td>\n",
       "      <td>0.0</td>\n",
       "      <td>1.0</td>\n",
       "      <td>0.0</td>\n",
       "      <td>0.0</td>\n",
       "      <td>0.0</td>\n",
       "    </tr>\n",
       "  </tbody>\n",
       "</table>\n",
       "</div>"
      ],
      "text/plain": [
       "                           hvac_zone_lobby  hvac_zone_main_hallway  \\\n",
       "2018-01-01 00:00:00+00:00              0.0                     1.0   \n",
       "2018-01-01 00:05:00+00:00              0.0                     1.0   \n",
       "2018-01-01 00:10:00+00:00              0.0                     1.0   \n",
       "2018-01-01 00:15:00+00:00              0.0                     1.0   \n",
       "2018-01-01 00:20:00+00:00              0.0                     1.0   \n",
       "\n",
       "                           hvac_zone_room_a  hvac_zone_theater_2  \\\n",
       "2018-01-01 00:00:00+00:00               0.0                  0.0   \n",
       "2018-01-01 00:05:00+00:00               0.0                  0.0   \n",
       "2018-01-01 00:10:00+00:00               0.0                  0.0   \n",
       "2018-01-01 00:15:00+00:00               0.0                  0.0   \n",
       "2018-01-01 00:20:00+00:00               0.0                  0.0   \n",
       "\n",
       "                           hvac_zone_back_hallway  hvac_zone_room_d  \\\n",
       "2018-01-01 00:00:00+00:00                     0.0               0.0   \n",
       "2018-01-01 00:05:00+00:00                     0.0               0.0   \n",
       "2018-01-01 00:10:00+00:00                     0.0               0.0   \n",
       "2018-01-01 00:15:00+00:00                     0.0               0.0   \n",
       "2018-01-01 00:20:00+00:00                     1.0               0.0   \n",
       "\n",
       "                           hvac_zone_pegasus_hall  hvac_zone_theater_1  \n",
       "2018-01-01 00:00:00+00:00                     0.0                  0.0  \n",
       "2018-01-01 00:05:00+00:00                     0.0                  0.0  \n",
       "2018-01-01 00:10:00+00:00                     0.0                  0.0  \n",
       "2018-01-01 00:15:00+00:00                     0.0                  0.0  \n",
       "2018-01-01 00:20:00+00:00                     0.0                  0.0  "
      ]
     },
     "execution_count": 12,
     "metadata": {},
     "output_type": "execute_result"
    }
   ],
   "source": [
    "df_raw_hvac_states = pd.read_csv(data_folder + '/hvac_states_' + site + '.csv', index_col=[0], parse_dates=True)\n",
    "df_raw_hvac_states.head()"
   ]
  },
  {
   "cell_type": "code",
   "execution_count": 13,
   "metadata": {},
   "outputs": [],
   "source": [
    "def func(row):\n",
    "    \"\"\" Possible situations: (0,0,0), (1,0,1), (0,1,2) --> 0, 1, 2\n",
    "    \n",
    "    If all are same --> first element\n",
    "    If there is a majority among the 3 --> majority\n",
    "    If all are unique --> last element\n",
    "    \n",
    "    \"\"\"\n",
    "\n",
    "    count = len(set(list(row.values)))\n",
    "    if count == 1:\n",
    "        return row.values[0]\n",
    "    elif count == 2:\n",
    "        max(set(list(row.values)), key=list(row.values).count)\n",
    "    else:\n",
    "        return row.values[-1]\n",
    "    \n",
    "resample_df_hvac = df_raw_hvac_states.resample('15T').apply(func)"
   ]
  },
  {
   "cell_type": "markdown",
   "metadata": {},
   "source": [
    "### TODO: Check if 'forward fill' is correct by determining the number of consecutive NaN's in all columns"
   ]
  },
  {
   "cell_type": "code",
   "execution_count": 14,
   "metadata": {},
   "outputs": [
    {
     "data": {
      "text/plain": [
       "hvac_zone_lobby           False\n",
       "hvac_zone_main_hallway    False\n",
       "hvac_zone_room_a          False\n",
       "hvac_zone_theater_2       False\n",
       "hvac_zone_back_hallway    False\n",
       "hvac_zone_room_d          False\n",
       "hvac_zone_pegasus_hall    False\n",
       "hvac_zone_theater_1       False\n",
       "dtype: bool"
      ]
     },
     "execution_count": 14,
     "metadata": {},
     "output_type": "execute_result"
    }
   ],
   "source": [
    "resample_df_hvac = resample_df_hvac.fillna(method='ffill')\n",
    "resample_df_hvac.isna().any()"
   ]
  },
  {
   "cell_type": "markdown",
   "metadata": {},
   "source": [
    "## Concatenate data"
   ]
  },
  {
   "cell_type": "code",
   "execution_count": 28,
   "metadata": {
    "scrolled": false
   },
   "outputs": [
    {
     "data": {
      "text/html": [
       "<div>\n",
       "<style scoped>\n",
       "    .dataframe tbody tr th:only-of-type {\n",
       "        vertical-align: middle;\n",
       "    }\n",
       "\n",
       "    .dataframe tbody tr th {\n",
       "        vertical-align: top;\n",
       "    }\n",
       "\n",
       "    .dataframe thead th {\n",
       "        text-align: right;\n",
       "    }\n",
       "</style>\n",
       "<table border=\"1\" class=\"dataframe\">\n",
       "  <thead>\n",
       "    <tr style=\"text-align: right;\">\n",
       "      <th></th>\n",
       "      <th>power</th>\n",
       "      <th>hvac_zone_lobby</th>\n",
       "      <th>hvac_zone_main_hallway</th>\n",
       "      <th>hvac_zone_room_a</th>\n",
       "      <th>hvac_zone_theater_2</th>\n",
       "      <th>hvac_zone_back_hallway</th>\n",
       "      <th>hvac_zone_room_d</th>\n",
       "      <th>hvac_zone_pegasus_hall</th>\n",
       "      <th>hvac_zone_theater_1</th>\n",
       "    </tr>\n",
       "  </thead>\n",
       "  <tbody>\n",
       "    <tr>\n",
       "      <th>2018-01-01 00:00:00+00:00</th>\n",
       "      <td>0.016522</td>\n",
       "      <td>0.0</td>\n",
       "      <td>1.0</td>\n",
       "      <td>0.0</td>\n",
       "      <td>0.0</td>\n",
       "      <td>0.0</td>\n",
       "      <td>0.0</td>\n",
       "      <td>0.0</td>\n",
       "      <td>0.0</td>\n",
       "    </tr>\n",
       "    <tr>\n",
       "      <th>2018-01-01 00:15:00+00:00</th>\n",
       "      <td>0.026825</td>\n",
       "      <td>0.0</td>\n",
       "      <td>1.0</td>\n",
       "      <td>0.0</td>\n",
       "      <td>0.0</td>\n",
       "      <td>0.0</td>\n",
       "      <td>0.0</td>\n",
       "      <td>0.0</td>\n",
       "      <td>0.0</td>\n",
       "    </tr>\n",
       "    <tr>\n",
       "      <th>2018-01-01 00:30:00+00:00</th>\n",
       "      <td>0.018907</td>\n",
       "      <td>0.0</td>\n",
       "      <td>1.0</td>\n",
       "      <td>0.0</td>\n",
       "      <td>0.0</td>\n",
       "      <td>0.0</td>\n",
       "      <td>0.0</td>\n",
       "      <td>0.0</td>\n",
       "      <td>0.0</td>\n",
       "    </tr>\n",
       "    <tr>\n",
       "      <th>2018-01-01 00:45:00+00:00</th>\n",
       "      <td>0.031357</td>\n",
       "      <td>0.0</td>\n",
       "      <td>1.0</td>\n",
       "      <td>0.0</td>\n",
       "      <td>0.0</td>\n",
       "      <td>0.0</td>\n",
       "      <td>0.0</td>\n",
       "      <td>0.0</td>\n",
       "      <td>0.0</td>\n",
       "    </tr>\n",
       "    <tr>\n",
       "      <th>2018-01-01 01:00:00+00:00</th>\n",
       "      <td>0.022752</td>\n",
       "      <td>0.0</td>\n",
       "      <td>1.0</td>\n",
       "      <td>0.0</td>\n",
       "      <td>0.0</td>\n",
       "      <td>0.0</td>\n",
       "      <td>0.0</td>\n",
       "      <td>0.0</td>\n",
       "      <td>0.0</td>\n",
       "    </tr>\n",
       "  </tbody>\n",
       "</table>\n",
       "</div>"
      ],
      "text/plain": [
       "                              power  hvac_zone_lobby  hvac_zone_main_hallway  \\\n",
       "2018-01-01 00:00:00+00:00  0.016522              0.0                     1.0   \n",
       "2018-01-01 00:15:00+00:00  0.026825              0.0                     1.0   \n",
       "2018-01-01 00:30:00+00:00  0.018907              0.0                     1.0   \n",
       "2018-01-01 00:45:00+00:00  0.031357              0.0                     1.0   \n",
       "2018-01-01 01:00:00+00:00  0.022752              0.0                     1.0   \n",
       "\n",
       "                           hvac_zone_room_a  hvac_zone_theater_2  \\\n",
       "2018-01-01 00:00:00+00:00               0.0                  0.0   \n",
       "2018-01-01 00:15:00+00:00               0.0                  0.0   \n",
       "2018-01-01 00:30:00+00:00               0.0                  0.0   \n",
       "2018-01-01 00:45:00+00:00               0.0                  0.0   \n",
       "2018-01-01 01:00:00+00:00               0.0                  0.0   \n",
       "\n",
       "                           hvac_zone_back_hallway  hvac_zone_room_d  \\\n",
       "2018-01-01 00:00:00+00:00                     0.0               0.0   \n",
       "2018-01-01 00:15:00+00:00                     0.0               0.0   \n",
       "2018-01-01 00:30:00+00:00                     0.0               0.0   \n",
       "2018-01-01 00:45:00+00:00                     0.0               0.0   \n",
       "2018-01-01 01:00:00+00:00                     0.0               0.0   \n",
       "\n",
       "                           hvac_zone_pegasus_hall  hvac_zone_theater_1  \n",
       "2018-01-01 00:00:00+00:00                     0.0                  0.0  \n",
       "2018-01-01 00:15:00+00:00                     0.0                  0.0  \n",
       "2018-01-01 00:30:00+00:00                     0.0                  0.0  \n",
       "2018-01-01 00:45:00+00:00                     0.0                  0.0  \n",
       "2018-01-01 01:00:00+00:00                     0.0                  0.0  "
      ]
     },
     "execution_count": 28,
     "metadata": {},
     "output_type": "execute_result"
    }
   ],
   "source": [
    "df = pd.concat([df_normalized, resample_df_hvac], axis=1)\n",
    "df.head()"
   ]
  },
  {
   "cell_type": "code",
   "execution_count": 29,
   "metadata": {},
   "outputs": [
    {
     "name": "stdout",
     "output_type": "stream",
     "text": [
      "missing data for power:  7.6396520146520155 %\n"
     ]
    }
   ],
   "source": [
    "missing = df['power'].isnull().sum()\n",
    "total = df['power'].shape[0]\n",
    "print('missing data for power: ', (missing/total)*100, '%')"
   ]
  },
  {
   "cell_type": "code",
   "execution_count": 30,
   "metadata": {},
   "outputs": [],
   "source": [
    "df.dropna(inplace=True)"
   ]
  },
  {
   "cell_type": "markdown",
   "metadata": {},
   "source": [
    "## Box plot"
   ]
  },
  {
   "cell_type": "code",
   "execution_count": 31,
   "metadata": {},
   "outputs": [
    {
     "data": {
      "text/plain": [
       "<matplotlib.axes._subplots.AxesSubplot at 0x1c3da125f8>"
      ]
     },
     "execution_count": 31,
     "metadata": {},
     "output_type": "execute_result"
    },
    {
     "data": {
      "image/png": "[encoded data removed]",
      "text/plain": [
       "<Figure size 432x288 with 1 Axes>"
      ]
     },
     "metadata": {
      "needs_background": "light"
     },
     "output_type": "display_data"
    }
   ],
   "source": [
    "df_box_plot = pd.DataFrame(df['power'])\n",
    "df_box_plot['quarter'] = df_box_plot.index.quarter\n",
    "df_box_plot.boxplot(column='power', by='quarter')"
   ]
  },
  {
   "cell_type": "markdown",
   "metadata": {},
   "source": [
    "## Histogram"
   ]
  },
  {
   "cell_type": "code",
   "execution_count": 32,
   "metadata": {},
   "outputs": [
    {
     "data": {
      "text/plain": [
       "<matplotlib.axes._subplots.AxesSubplot at 0x1c3d9cda90>"
      ]
     },
     "execution_count": 32,
     "metadata": {},
     "output_type": "execute_result"
    },
    {
     "data": {
      "image/png": "[encoded data removed]",
      "text/plain": [
       "<Figure size 432x288 with 1 Axes>"
      ]
     },
     "metadata": {
      "needs_background": "light"
     },
     "output_type": "display_data"
    }
   ],
   "source": [
    "df['power'].hist()"
   ]
  },
  {
   "cell_type": "markdown",
   "metadata": {},
   "source": [
    "## ACF and PACF"
   ]
  },
  {
   "cell_type": "code",
   "execution_count": 33,
   "metadata": {},
   "outputs": [
    {
     "data": {
      "image/png": "[encoded data removed]",
      "text/plain": [
       "<Figure size 432x288 with 1 Axes>"
      ]
     },
     "metadata": {
      "needs_background": "light"
     },
     "output_type": "display_data"
    },
    {
     "data": {
      "image/png": "[encoded data removed]",
      "text/plain": [
       "<Figure size 432x288 with 1 Axes>"
      ]
     },
     "metadata": {
      "needs_background": "light"
     },
     "output_type": "display_data"
    }
   ],
   "source": [
    "fig1 = plot_acf(df_processed['power'], lags=50)\n",
    "fig2 = plot_pacf(df_processed['power'], lags=50)"
   ]
  },
  {
   "cell_type": "markdown",
   "metadata": {},
   "source": [
    "# Prepare data"
   ]
  },
  {
   "cell_type": "markdown",
   "metadata": {},
   "source": [
    "## Split into training & testing data"
   ]
  },
  {
   "cell_type": "code",
   "execution_count": 34,
   "metadata": {},
   "outputs": [],
   "source": [
    "X_train = df[(df.index < '2018-12-31')]\n",
    "y_train = df.loc[(df.index < '2018-12-31'), 'power']\n",
    "\n",
    "X_test = df[(df.index >= '2019-01-01')]\n",
    "y_test = df.loc[(df.index >= '2019-01-01'), 'power']"
   ]
  },
  {
   "cell_type": "markdown",
   "metadata": {},
   "source": [
    "## Prepare data for LSTM"
   ]
  },
  {
   "cell_type": "code",
   "execution_count": 35,
   "metadata": {},
   "outputs": [
    {
     "name": "stdout",
     "output_type": "stream",
     "text": [
      "(31752, 24, 9)\n",
      "(31752, 16)\n",
      "(8434, 24, 9)\n",
      "(8434, 16)\n"
     ]
    }
   ],
   "source": [
    "# Number of columns in X_train\n",
    "NUM_FEATURES    = len(X_train.columns)\n",
    "\n",
    "# ACF plot shows significant autocorrelation till lag=24\n",
    "NUM_TIMESTEPS   = 24\n",
    "\n",
    "# 4 hour predictions = Sixteen 15min predictions \n",
    "NUM_PREDICTIONS = 16\n",
    "\n",
    "\n",
    "train_x, train_y = [], []\n",
    "for i in range(NUM_TIMESTEPS, len(X_train)-NUM_PREDICTIONS):\n",
    "    train_x.append(X_train.values[i-NUM_TIMESTEPS:i])\n",
    "    train_y.append(y_train.values[i:i+NUM_PREDICTIONS])\n",
    "    \n",
    "train_x, train_y = np.array(train_x), np.array(train_y)\n",
    "\n",
    "print(train_x.shape)\n",
    "print(train_y.shape)\n",
    "\n",
    "\n",
    "test_x, test_y = [], []\n",
    "for i in range(NUM_TIMESTEPS, len(X_test)-NUM_PREDICTIONS):\n",
    "    test_x.append(X_test.values[i-NUM_TIMESTEPS:i])\n",
    "    test_y.append(y_test.values[i:i+NUM_PREDICTIONS])\n",
    "    \n",
    "test_x, test_y = np.array(test_x), np.array(test_y)\n",
    "\n",
    "print(test_x.shape)\n",
    "print(test_y.shape)"
   ]
  },
  {
   "cell_type": "markdown",
   "metadata": {},
   "source": [
    "# LSTM"
   ]
  },
  {
   "cell_type": "code",
   "execution_count": 37,
   "metadata": {},
   "outputs": [
    {
     "name": "stdout",
     "output_type": "stream",
     "text": [
      "WARNING:tensorflow:From /anaconda3/lib/python3.7/site-packages/tensorflow/python/framework/op_def_library.py:263: colocate_with (from tensorflow.python.framework.ops) is deprecated and will be removed in a future version.\n",
      "Instructions for updating:\n",
      "Colocations handled automatically by placer.\n",
      "WARNING:tensorflow:From /anaconda3/lib/python3.7/site-packages/keras/backend/tensorflow_backend.py:3445: calling dropout (from tensorflow.python.ops.nn_ops) with keep_prob is deprecated and will be removed in a future version.\n",
      "Instructions for updating:\n",
      "Please use `rate` instead of `keep_prob`. Rate should be set to `rate = 1 - keep_prob`.\n",
      "_________________________________________________________________\n",
      "Layer (type)                 Output Shape              Param #   \n",
      "=================================================================\n",
      "lstm_1 (LSTM)                (None, 24, 128)           70656     \n",
      "_________________________________________________________________\n",
      "dropout_1 (Dropout)          (None, 24, 128)           0         \n",
      "_________________________________________________________________\n",
      "lstm_2 (LSTM)                (None, 24, 128)           131584    \n",
      "_________________________________________________________________\n",
      "dropout_2 (Dropout)          (None, 24, 128)           0         \n",
      "_________________________________________________________________\n",
      "lstm_3 (LSTM)                (None, 128)               131584    \n",
      "_________________________________________________________________\n",
      "dropout_3 (Dropout)          (None, 128)               0         \n",
      "_________________________________________________________________\n",
      "dense_1 (Dense)              (None, 16)                2064      \n",
      "=================================================================\n",
      "Total params: 335,888\n",
      "Trainable params: 335,888\n",
      "Non-trainable params: 0\n",
      "_________________________________________________________________\n"
     ]
    }
   ],
   "source": [
    "model = Sequential([\n",
    "    \n",
    "    LSTM(units=128, input_shape=(NUM_TIMESTEPS, NUM_FEATURES), return_sequences=True),\n",
    "    Dropout(0.2),\n",
    "    \n",
    "    LSTM(units=128, return_sequences=True),\n",
    "    Dropout(0.2),\n",
    "    \n",
    "    LSTM(units=128, activation='softmax', return_sequences=False),\n",
    "    Dropout(0.2),\n",
    "    \n",
    "    Dense(NUM_PREDICTIONS)\n",
    "])\n",
    "\n",
    "model.compile(optimizer='adam', loss='mean_squared_error', metrics=['accuracy'])\n",
    "model.summary()"
   ]
  },
  {
   "cell_type": "code",
   "execution_count": 38,
   "metadata": {},
   "outputs": [
    {
     "name": "stdout",
     "output_type": "stream",
     "text": [
      "WARNING:tensorflow:From /anaconda3/lib/python3.7/site-packages/tensorflow/python/ops/math_ops.py:3066: to_int32 (from tensorflow.python.ops.math_ops) is deprecated and will be removed in a future version.\n",
      "Instructions for updating:\n",
      "Use tf.cast instead.\n",
      "Train on 31752 samples, validate on 8434 samples\n",
      "Epoch 1/10\n",
      "31752/31752 [==============================] - 24s 762us/step - loss: 0.0324 - acc: 0.0891 - val_loss: 0.0197 - val_acc: 0.1124\n",
      "Epoch 2/10\n",
      "31752/31752 [==============================] - 22s 687us/step - loss: 0.0265 - acc: 0.1047 - val_loss: 0.0152 - val_acc: 0.1649\n",
      "Epoch 3/10\n",
      "31752/31752 [==============================] - 23s 719us/step - loss: 0.0236 - acc: 0.1166 - val_loss: 0.0155 - val_acc: 0.1829\n",
      "Epoch 4/10\n",
      "31752/31752 [==============================] - 24s 742us/step - loss: 0.0220 - acc: 0.1248 - val_loss: 0.0141 - val_acc: 0.1904\n",
      "Epoch 5/10\n",
      "31752/31752 [==============================] - 23s 732us/step - loss: 0.0211 - acc: 0.1295 - val_loss: 0.0134 - val_acc: 0.1867\n",
      "Epoch 6/10\n",
      "31752/31752 [==============================] - 23s 732us/step - loss: 0.0203 - acc: 0.1311 - val_loss: 0.0122 - val_acc: 0.1826\n",
      "Epoch 7/10\n",
      "31752/31752 [==============================] - 23s 732us/step - loss: 0.0196 - acc: 0.1344 - val_loss: 0.0120 - val_acc: 0.1854\n",
      "Epoch 8/10\n",
      "31752/31752 [==============================] - 25s 786us/step - loss: 0.0193 - acc: 0.1342 - val_loss: 0.0123 - val_acc: 0.1827\n",
      "Epoch 9/10\n",
      "31752/31752 [==============================] - 26s 805us/step - loss: 0.0193 - acc: 0.1402 - val_loss: 0.0119 - val_acc: 0.1827\n",
      "Epoch 10/10\n",
      "31752/31752 [==============================] - 26s 830us/step - loss: 0.0192 - acc: 0.1417 - val_loss: 0.0120 - val_acc: 0.1831\n"
     ]
    }
   ],
   "source": [
    "history = model.fit(train_x, train_y, epochs=100, batch_size=128, shuffle=False, validation_data=(test_x, test_y))"
   ]
  },
  {
   "cell_type": "markdown",
   "metadata": {},
   "source": [
    "# Results"
   ]
  },
  {
   "cell_type": "markdown",
   "metadata": {},
   "source": [
    "## Loss"
   ]
  },
  {
   "cell_type": "code",
   "execution_count": 45,
   "metadata": {},
   "outputs": [],
   "source": [
    "train_loss = history.history['loss']\n",
    "val_loss = history.history['val_loss']\n",
    "epochs = [x for x in range(len(train_loss))]\n",
    "\n",
    "df_train_loss = pd.DataFrame(train_loss, columns=['train_loss'], index=epochs)\n",
    "df_val_loss   = pd.DataFrame(val_loss, columns=['val_loss'], index=epochs)\n",
    "\n",
    "df_loss = pd.concat([df_train_loss, df_val_loss], axis=1)"
   ]
  },
  {
   "cell_type": "code",
   "execution_count": 46,
   "metadata": {
    "scrolled": true
   },
   "outputs": [
    {
     "data": {
      "text/plain": [
       "<matplotlib.axes._subplots.AxesSubplot at 0x1c48423198>"
      ]
     },
     "execution_count": 46,
     "metadata": {},
     "output_type": "execute_result"
    },
    {
     "data": {
      "image/png": "[encoded data removed]",
      "text/plain": [
       "<Figure size 1296x360 with 1 Axes>"
      ]
     },
     "metadata": {
      "needs_background": "light"
     },
     "output_type": "display_data"
    }
   ],
   "source": [
    "df_loss.plot(figsize=(18,5))"
   ]
  },
  {
   "cell_type": "markdown",
   "metadata": {},
   "source": [
    "## Accuracy"
   ]
  },
  {
   "cell_type": "code",
   "execution_count": 70,
   "metadata": {},
   "outputs": [],
   "source": [
    "train_acc = history.history['acc']\n",
    "val_acc   = history.history['val_acc']\n",
    "epochs    = [x for x in range(len(train_acc))]\n",
    "\n",
    "df_train_acc = pd.DataFrame(train_acc, columns=['train_acc'], index=epochs)\n",
    "df_val_acc   = pd.DataFrame(val_acc, columns=['val_acc'], index=epochs)\n",
    "\n",
    "df_acc = pd.concat([df_train_acc, df_val_acc], axis=1)"
   ]
  },
  {
   "cell_type": "code",
   "execution_count": 71,
   "metadata": {},
   "outputs": [
    {
     "data": {
      "text/plain": [
       "<matplotlib.axes._subplots.AxesSubplot at 0x1c5556d550>"
      ]
     },
     "execution_count": 71,
     "metadata": {},
     "output_type": "execute_result"
    },
    {
     "data": {
      "image/png": "[encoded data removed]",
      "text/plain": [
       "<Figure size 1296x360 with 1 Axes>"
      ]
     },
     "metadata": {
      "needs_background": "light"
     },
     "output_type": "display_data"
    }
   ],
   "source": [
    "df_acc.plot(figsize=(18,5))"
   ]
  },
  {
   "cell_type": "markdown",
   "metadata": {},
   "source": [
    "# Predictions"
   ]
  },
  {
   "cell_type": "code",
   "execution_count": 49,
   "metadata": {},
   "outputs": [],
   "source": [
    "pred_y = model.predict(test_x)"
   ]
  },
  {
   "cell_type": "code",
   "execution_count": 50,
   "metadata": {},
   "outputs": [],
   "source": [
    "df_y_pred = pd.DataFrame(scaler.inverse_transform(pred_y),\n",
    "                         index=y_test[NUM_TIMESTEPS:-NUM_PREDICTIONS].index)\n",
    "\n",
    "df_y_true = pd.DataFrame(scaler.inverse_transform(test_y),\n",
    "                         index=y_test[NUM_TIMESTEPS:-NUM_PREDICTIONS].index)"
   ]
  },
  {
   "cell_type": "code",
   "execution_count": 51,
   "metadata": {},
   "outputs": [],
   "source": [
    "timestamp = pd.Timestamp('2019-01-01 06:00:00+00:00')\n",
    "\n",
    "predictions  = df_y_pred.loc[timestamp, :]\n",
    "ground_truth = df_y_true.loc[timestamp, :]\n",
    "\n",
    "df_plot = pd.concat([predictions, ground_truth], axis=1)\n",
    "df_plot.columns = ['pred', 'true']"
   ]
  },
  {
   "cell_type": "code",
   "execution_count": 52,
   "metadata": {},
   "outputs": [
    {
     "data": {
      "text/plain": [
       "<matplotlib.axes._subplots.AxesSubplot at 0x1c556dad30>"
      ]
     },
     "execution_count": 52,
     "metadata": {},
     "output_type": "execute_result"
    },
    {
     "data": {
      "image/png": "[encoded data removed]",
      "text/plain": [
       "<Figure size 1296x360 with 1 Axes>"
      ]
     },
     "metadata": {
      "needs_background": "light"
     },
     "output_type": "display_data"
    }
   ],
   "source": [
    "df_plot.plot(figsize=(18,5))"
   ]
  },
  {
   "cell_type": "code",
   "execution_count": null,
   "metadata": {},
   "outputs": [],
   "source": []
  }
 ],
 "metadata": {
  "kernelspec": {
   "display_name": "Python 3",
   "language": "python",
   "name": "python3"
  },
  "language_info": {
   "codemirror_mode": {
    "name": "ipython",
    "version": 3
   },
   "file_extension": ".py",
   "mimetype": "text/x-python",
   "name": "python",
   "nbconvert_exporter": "python",
   "pygments_lexer": "ipython3",
   "version": "3.7.3"
  }
 },
 "nbformat": 4,
 "nbformat_minor": 2
}
