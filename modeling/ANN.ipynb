{
 "cells": [
  {
   "cell_type": "markdown",
   "metadata": {},
   "source": [
    "# Note\n",
    "\n",
    "1. HVAC States data has duplicate points! \"df.loc[start] start=pd.Timestamp('2018-08-01')\"\n",
    "1. Can't normalize data if it's not stationary."
   ]
  },
  {
   "cell_type": "code",
   "execution_count": 27,
   "metadata": {},
   "outputs": [],
   "source": [
    "import numpy as np\n",
    "import pandas as pd\n",
    "from scipy import stats\n",
    "from statsmodels.tsa.stattools import adfuller\n",
    "from sklearn.preprocessing import MinMaxScaler\n",
    "\n",
    "import matplotlib.pyplot as plt\n",
    "%matplotlib inline"
   ]
  },
  {
   "cell_type": "code",
   "execution_count": 2,
   "metadata": {},
   "outputs": [],
   "source": [
    "data_folder = 'data'\n",
    "site = 'avenal-movie-theatre'"
   ]
  },
  {
   "cell_type": "markdown",
   "metadata": {},
   "source": [
    "# Import data"
   ]
  },
  {
   "cell_type": "markdown",
   "metadata": {},
   "source": [
    "## Eagle (power) data"
   ]
  },
  {
   "cell_type": "code",
   "execution_count": 3,
   "metadata": {},
   "outputs": [
    {
     "name": "stderr",
     "output_type": "stream",
     "text": [
      "/anaconda3/lib/python3.7/site-packages/pandas/core/tools/datetimes.py:314: UserWarning: Discarding nonzero nanoseconds in conversion\n",
      "  for ts in result]\n"
     ]
    },
    {
     "data": {
      "text/html": [
       "<div>\n",
       "<style scoped>\n",
       "    .dataframe tbody tr th:only-of-type {\n",
       "        vertical-align: middle;\n",
       "    }\n",
       "\n",
       "    .dataframe tbody tr th {\n",
       "        vertical-align: top;\n",
       "    }\n",
       "\n",
       "    .dataframe thead th {\n",
       "        text-align: right;\n",
       "    }\n",
       "</style>\n",
       "<table border=\"1\" class=\"dataframe\">\n",
       "  <thead>\n",
       "    <tr style=\"text-align: right;\">\n",
       "      <th></th>\n",
       "      <th>power</th>\n",
       "    </tr>\n",
       "    <tr>\n",
       "      <th>datetime</th>\n",
       "      <th></th>\n",
       "    </tr>\n",
       "  </thead>\n",
       "  <tbody>\n",
       "    <tr>\n",
       "      <th>2018-01-01 00:00:04.574889+00:00</th>\n",
       "      <td>400.0</td>\n",
       "    </tr>\n",
       "    <tr>\n",
       "      <th>2018-01-01 00:00:10.215095+00:00</th>\n",
       "      <td>440.0</td>\n",
       "    </tr>\n",
       "    <tr>\n",
       "      <th>2018-01-01 00:00:13.496753+00:00</th>\n",
       "      <td>440.0</td>\n",
       "    </tr>\n",
       "    <tr>\n",
       "      <th>2018-01-01 00:00:20.031088+00:00</th>\n",
       "      <td>440.0</td>\n",
       "    </tr>\n",
       "    <tr>\n",
       "      <th>2018-01-01 00:00:33.525473+00:00</th>\n",
       "      <td>400.0</td>\n",
       "    </tr>\n",
       "  </tbody>\n",
       "</table>\n",
       "</div>"
      ],
      "text/plain": [
       "                                  power\n",
       "datetime                               \n",
       "2018-01-01 00:00:04.574889+00:00  400.0\n",
       "2018-01-01 00:00:10.215095+00:00  440.0\n",
       "2018-01-01 00:00:13.496753+00:00  440.0\n",
       "2018-01-01 00:00:20.031088+00:00  440.0\n",
       "2018-01-01 00:00:33.525473+00:00  400.0"
      ]
     },
     "execution_count": 3,
     "metadata": {},
     "output_type": "execute_result"
    }
   ],
   "source": [
    "df_raw = pd.read_csv(data_folder + '/power_' + site + '.csv', index_col=[0], parse_dates=True)\n",
    "df_raw = df_raw[(df_raw.index < '2019-04-01')]\n",
    "df_raw.head()"
   ]
  },
  {
   "cell_type": "code",
   "execution_count": 28,
   "metadata": {},
   "outputs": [
    {
     "data": {
      "text/plain": [
       "<matplotlib.axes._subplots.AxesSubplot at 0x14a4631d0>"
      ]
     },
     "execution_count": 28,
     "metadata": {},
     "output_type": "execute_result"
    },
    {
     "data": {
      "image/png": "[encoded data removed]",
      "text/plain": [
       "<Figure size 1296x360 with 1 Axes>"
      ]
     },
     "metadata": {
      "needs_background": "light"
     },
     "output_type": "display_data"
    }
   ],
   "source": [
    "df_raw.plot(figsize=(18,5))"
   ]
  },
  {
   "cell_type": "markdown",
   "metadata": {},
   "source": [
    "### Check for missing data"
   ]
  },
  {
   "cell_type": "code",
   "execution_count": 5,
   "metadata": {},
   "outputs": [
    {
     "data": {
      "text/plain": [
       "power    False\n",
       "dtype: bool"
      ]
     },
     "execution_count": 5,
     "metadata": {},
     "output_type": "execute_result"
    }
   ],
   "source": [
    "df_raw.isna().any()"
   ]
  },
  {
   "cell_type": "markdown",
   "metadata": {},
   "source": [
    "### Clean data"
   ]
  },
  {
   "cell_type": "code",
   "execution_count": 8,
   "metadata": {},
   "outputs": [
    {
     "data": {
      "text/html": [
       "<div>\n",
       "<style scoped>\n",
       "    .dataframe tbody tr th:only-of-type {\n",
       "        vertical-align: middle;\n",
       "    }\n",
       "\n",
       "    .dataframe tbody tr th {\n",
       "        vertical-align: top;\n",
       "    }\n",
       "\n",
       "    .dataframe thead th {\n",
       "        text-align: right;\n",
       "    }\n",
       "</style>\n",
       "<table border=\"1\" class=\"dataframe\">\n",
       "  <thead>\n",
       "    <tr style=\"text-align: right;\">\n",
       "      <th></th>\n",
       "      <th>power</th>\n",
       "    </tr>\n",
       "    <tr>\n",
       "      <th>datetime</th>\n",
       "      <th></th>\n",
       "    </tr>\n",
       "  </thead>\n",
       "  <tbody>\n",
       "    <tr>\n",
       "      <th>2018-01-01 00:00:00+00:00</th>\n",
       "      <td>416.991150</td>\n",
       "    </tr>\n",
       "    <tr>\n",
       "      <th>2018-01-01 00:15:00+00:00</th>\n",
       "      <td>477.477477</td>\n",
       "    </tr>\n",
       "    <tr>\n",
       "      <th>2018-01-01 00:30:00+00:00</th>\n",
       "      <td>430.990991</td>\n",
       "    </tr>\n",
       "    <tr>\n",
       "      <th>2018-01-01 00:45:00+00:00</th>\n",
       "      <td>504.081633</td>\n",
       "    </tr>\n",
       "    <tr>\n",
       "      <th>2018-01-01 01:00:00+00:00</th>\n",
       "      <td>453.565217</td>\n",
       "    </tr>\n",
       "  </tbody>\n",
       "</table>\n",
       "</div>"
      ],
      "text/plain": [
       "                                power\n",
       "datetime                             \n",
       "2018-01-01 00:00:00+00:00  416.991150\n",
       "2018-01-01 00:15:00+00:00  477.477477\n",
       "2018-01-01 00:30:00+00:00  430.990991\n",
       "2018-01-01 00:45:00+00:00  504.081633\n",
       "2018-01-01 01:00:00+00:00  453.565217"
      ]
     },
     "execution_count": 8,
     "metadata": {},
     "output_type": "execute_result"
    }
   ],
   "source": [
    "df_processed = df_raw.resample('15T').mean()\n",
    "df_processed = df_processed[df_processed['power'] < 10000000]\n",
    "df_processed = df_processed[(np.abs(stats.zscore(df_processed)) < float(3)).all(axis=1)]\n",
    "df_processed.dropna(inplace=True)\n",
    "df_processed.head()"
   ]
  },
  {
   "cell_type": "code",
   "execution_count": 29,
   "metadata": {
    "scrolled": true
   },
   "outputs": [
    {
     "data": {
      "text/plain": [
       "<matplotlib.axes._subplots.AxesSubplot at 0x1356ca4a8>"
      ]
     },
     "execution_count": 29,
     "metadata": {},
     "output_type": "execute_result"
    },
    {
     "data": {
      "image/png": "[encoded data removed]",
      "text/plain": [
       "<Figure size 1296x360 with 1 Axes>"
      ]
     },
     "metadata": {
      "needs_background": "light"
     },
     "output_type": "display_data"
    }
   ],
   "source": [
    "df_processed.plot(figsize=(18,5))"
   ]
  },
  {
   "cell_type": "markdown",
   "metadata": {},
   "source": [
    "### Check for stationarity\n",
    "\n",
    "Null hypothesis is that the data is non-stationary. Since p-value > critical value --> data is non-stationary."
   ]
  },
  {
   "cell_type": "code",
   "execution_count": 14,
   "metadata": {},
   "outputs": [
    {
     "data": {
      "text/plain": [
       "Test Statistic            -30.665127\n",
       "p-value                     0.000000\n",
       "#Lags Used                 48.000000\n",
       "#Observations Used      40294.000000\n",
       "Critical Value (1%)        -3.430512\n",
       "Critical Value (5%)        -2.861612\n",
       "Critical Value (10%)       -2.566808\n",
       "dtype: float64"
      ]
     },
     "execution_count": 14,
     "metadata": {},
     "output_type": "execute_result"
    }
   ],
   "source": [
    "result = adfuller(df_processed['power'], autolag='AIC')\n",
    "output = pd.Series(result[0:4], index=['Test Statistic', 'p-value', '#Lags Used',\n",
    "                                      '#Observations Used'])\n",
    "for key, value in result[4].items():\n",
    "    output['Critical Value (%s)' % key] = value\n",
    "    \n",
    "output"
   ]
  },
  {
   "cell_type": "markdown",
   "metadata": {},
   "source": [
    "### Make data stationary\n",
    "\n",
    "Since p-value < critical value --> data is stationary"
   ]
  },
  {
   "cell_type": "code",
   "execution_count": 19,
   "metadata": {},
   "outputs": [
    {
     "data": {
      "text/plain": [
       "Test Statistic            -42.270404\n",
       "p-value                     0.000000\n",
       "#Lags Used                 54.000000\n",
       "#Observations Used      40287.000000\n",
       "Critical Value (1%)        -3.430512\n",
       "Critical Value (5%)        -2.861612\n",
       "Critical Value (10%)       -2.566808\n",
       "dtype: float64"
      ]
     },
     "execution_count": 19,
     "metadata": {},
     "output_type": "execute_result"
    }
   ],
   "source": [
    "df_stationary = df_processed.diff(1).dropna()\n",
    "\n",
    "result = adfuller(df_stationary['power'], autolag='AIC')\n",
    "output = pd.Series(result[0:4], index=['Test Statistic', 'p-value', '#Lags Used',\n",
    "                                      '#Observations Used'])\n",
    "for key, value in result[4].items():\n",
    "    output['Critical Value (%s)' % key] = value\n",
    "    \n",
    "output"
   ]
  },
  {
   "cell_type": "markdown",
   "metadata": {},
   "source": [
    "### Normalize data"
   ]
  },
  {
   "cell_type": "code",
   "execution_count": 25,
   "metadata": {
    "scrolled": true
   },
   "outputs": [
    {
     "data": {
      "text/html": [
       "<div>\n",
       "<style scoped>\n",
       "    .dataframe tbody tr th:only-of-type {\n",
       "        vertical-align: middle;\n",
       "    }\n",
       "\n",
       "    .dataframe tbody tr th {\n",
       "        vertical-align: top;\n",
       "    }\n",
       "\n",
       "    .dataframe thead th {\n",
       "        text-align: right;\n",
       "    }\n",
       "</style>\n",
       "<table border=\"1\" class=\"dataframe\">\n",
       "  <thead>\n",
       "    <tr style=\"text-align: right;\">\n",
       "      <th></th>\n",
       "      <th>power</th>\n",
       "    </tr>\n",
       "    <tr>\n",
       "      <th>datetime</th>\n",
       "      <th></th>\n",
       "    </tr>\n",
       "  </thead>\n",
       "  <tbody>\n",
       "    <tr>\n",
       "      <th>2018-01-01 00:15:00+00:00</th>\n",
       "      <td>0.457473</td>\n",
       "    </tr>\n",
       "    <tr>\n",
       "      <th>2018-01-01 00:30:00+00:00</th>\n",
       "      <td>0.446950</td>\n",
       "    </tr>\n",
       "    <tr>\n",
       "      <th>2018-01-01 00:45:00+00:00</th>\n",
       "      <td>0.458712</td>\n",
       "    </tr>\n",
       "    <tr>\n",
       "      <th>2018-01-01 01:00:00+00:00</th>\n",
       "      <td>0.446554</td>\n",
       "    </tr>\n",
       "    <tr>\n",
       "      <th>2018-01-01 01:15:00+00:00</th>\n",
       "      <td>0.452347</td>\n",
       "    </tr>\n",
       "  </tbody>\n",
       "</table>\n",
       "</div>"
      ],
      "text/plain": [
       "                              power\n",
       "datetime                           \n",
       "2018-01-01 00:15:00+00:00  0.457473\n",
       "2018-01-01 00:30:00+00:00  0.446950\n",
       "2018-01-01 00:45:00+00:00  0.458712\n",
       "2018-01-01 01:00:00+00:00  0.446554\n",
       "2018-01-01 01:15:00+00:00  0.452347"
      ]
     },
     "execution_count": 25,
     "metadata": {},
     "output_type": "execute_result"
    }
   ],
   "source": [
    "scaler = MinMaxScaler(feature_range=(0,1))\n",
    "df_normalized = pd.DataFrame(scaler.fit_transform(df_stationary), \n",
    "                             columns=df_stationary.columns, index=df_stationary.index)\n",
    "df_normalized.head()"
   ]
  },
  {
   "cell_type": "markdown",
   "metadata": {},
   "source": [
    "## HVAC States data"
   ]
  },
  {
   "cell_type": "code",
   "execution_count": 57,
   "metadata": {},
   "outputs": [
    {
     "data": {
      "text/html": [
       "<div>\n",
       "<style scoped>\n",
       "    .dataframe tbody tr th:only-of-type {\n",
       "        vertical-align: middle;\n",
       "    }\n",
       "\n",
       "    .dataframe tbody tr th {\n",
       "        vertical-align: top;\n",
       "    }\n",
       "\n",
       "    .dataframe thead th {\n",
       "        text-align: right;\n",
       "    }\n",
       "</style>\n",
       "<table border=\"1\" class=\"dataframe\">\n",
       "  <thead>\n",
       "    <tr style=\"text-align: right;\">\n",
       "      <th></th>\n",
       "      <th>hvac_zone_lobby</th>\n",
       "      <th>hvac_zone_main_hallway</th>\n",
       "      <th>hvac_zone_room_a</th>\n",
       "      <th>hvac_zone_theater_2</th>\n",
       "      <th>hvac_zone_back_hallway</th>\n",
       "      <th>hvac_zone_room_d</th>\n",
       "      <th>hvac_zone_pegasus_hall</th>\n",
       "      <th>hvac_zone_theater_1</th>\n",
       "    </tr>\n",
       "  </thead>\n",
       "  <tbody>\n",
       "    <tr>\n",
       "      <th>2018-01-01 00:00:00+00:00</th>\n",
       "      <td>0.0</td>\n",
       "      <td>1.0</td>\n",
       "      <td>0.0</td>\n",
       "      <td>0.0</td>\n",
       "      <td>0.0</td>\n",
       "      <td>0.0</td>\n",
       "      <td>0.0</td>\n",
       "      <td>0.0</td>\n",
       "    </tr>\n",
       "    <tr>\n",
       "      <th>2018-01-01 00:05:00+00:00</th>\n",
       "      <td>0.0</td>\n",
       "      <td>1.0</td>\n",
       "      <td>0.0</td>\n",
       "      <td>0.0</td>\n",
       "      <td>0.0</td>\n",
       "      <td>0.0</td>\n",
       "      <td>0.0</td>\n",
       "      <td>0.0</td>\n",
       "    </tr>\n",
       "    <tr>\n",
       "      <th>2018-01-01 00:10:00+00:00</th>\n",
       "      <td>0.0</td>\n",
       "      <td>1.0</td>\n",
       "      <td>0.0</td>\n",
       "      <td>0.0</td>\n",
       "      <td>0.0</td>\n",
       "      <td>0.0</td>\n",
       "      <td>0.0</td>\n",
       "      <td>0.0</td>\n",
       "    </tr>\n",
       "    <tr>\n",
       "      <th>2018-01-01 00:15:00+00:00</th>\n",
       "      <td>0.0</td>\n",
       "      <td>1.0</td>\n",
       "      <td>0.0</td>\n",
       "      <td>0.0</td>\n",
       "      <td>0.0</td>\n",
       "      <td>0.0</td>\n",
       "      <td>0.0</td>\n",
       "      <td>0.0</td>\n",
       "    </tr>\n",
       "    <tr>\n",
       "      <th>2018-01-01 00:20:00+00:00</th>\n",
       "      <td>0.0</td>\n",
       "      <td>1.0</td>\n",
       "      <td>0.0</td>\n",
       "      <td>0.0</td>\n",
       "      <td>1.0</td>\n",
       "      <td>0.0</td>\n",
       "      <td>0.0</td>\n",
       "      <td>0.0</td>\n",
       "    </tr>\n",
       "  </tbody>\n",
       "</table>\n",
       "</div>"
      ],
      "text/plain": [
       "                           hvac_zone_lobby  hvac_zone_main_hallway  \\\n",
       "2018-01-01 00:00:00+00:00              0.0                     1.0   \n",
       "2018-01-01 00:05:00+00:00              0.0                     1.0   \n",
       "2018-01-01 00:10:00+00:00              0.0                     1.0   \n",
       "2018-01-01 00:15:00+00:00              0.0                     1.0   \n",
       "2018-01-01 00:20:00+00:00              0.0                     1.0   \n",
       "\n",
       "                           hvac_zone_room_a  hvac_zone_theater_2  \\\n",
       "2018-01-01 00:00:00+00:00               0.0                  0.0   \n",
       "2018-01-01 00:05:00+00:00               0.0                  0.0   \n",
       "2018-01-01 00:10:00+00:00               0.0                  0.0   \n",
       "2018-01-01 00:15:00+00:00               0.0                  0.0   \n",
       "2018-01-01 00:20:00+00:00               0.0                  0.0   \n",
       "\n",
       "                           hvac_zone_back_hallway  hvac_zone_room_d  \\\n",
       "2018-01-01 00:00:00+00:00                     0.0               0.0   \n",
       "2018-01-01 00:05:00+00:00                     0.0               0.0   \n",
       "2018-01-01 00:10:00+00:00                     0.0               0.0   \n",
       "2018-01-01 00:15:00+00:00                     0.0               0.0   \n",
       "2018-01-01 00:20:00+00:00                     1.0               0.0   \n",
       "\n",
       "                           hvac_zone_pegasus_hall  hvac_zone_theater_1  \n",
       "2018-01-01 00:00:00+00:00                     0.0                  0.0  \n",
       "2018-01-01 00:05:00+00:00                     0.0                  0.0  \n",
       "2018-01-01 00:10:00+00:00                     0.0                  0.0  \n",
       "2018-01-01 00:15:00+00:00                     0.0                  0.0  \n",
       "2018-01-01 00:20:00+00:00                     0.0                  0.0  "
      ]
     },
     "execution_count": 57,
     "metadata": {},
     "output_type": "execute_result"
    }
   ],
   "source": [
    "df_raw_hvac_states = pd.read_csv(data_folder + '/hvac_states_' + site + '.csv', index_col=[0], parse_dates=True)\n",
    "df_raw_hvac_states.head()"
   ]
  },
  {
   "cell_type": "markdown",
   "metadata": {},
   "source": [
    "### Check for missing data"
   ]
  },
  {
   "cell_type": "code",
   "execution_count": 58,
   "metadata": {},
   "outputs": [
    {
     "name": "stdout",
     "output_type": "stream",
     "text": [
      "missing data for power: \n",
      " hvac_zone_lobby           6.264120\n",
      "hvac_zone_main_hallway    4.201056\n",
      "hvac_zone_room_a          3.898381\n",
      "hvac_zone_theater_2       4.708749\n",
      "hvac_zone_back_hallway    3.973948\n",
      "hvac_zone_room_d          4.026830\n",
      "hvac_zone_pegasus_hall    4.581074\n",
      "hvac_zone_theater_1       5.845112\n",
      "dtype: float64\n"
     ]
    }
   ],
   "source": [
    "missing = df_raw_hvac_states.isnull().sum()\n",
    "total = df_raw_hvac_states.shape[0]\n",
    "print('missing data for power: \\n', (missing/total)*100)"
   ]
  },
  {
   "cell_type": "code",
   "execution_count": 83,
   "metadata": {},
   "outputs": [],
   "source": [
    "def func(row):\n",
    "    \"\"\" Possible situations: (0,0,0), (1,0,1), (0,1,2) --> 0, 1, 2\n",
    "    \n",
    "    If all are same --> first element\n",
    "    If there is a majority among the 3 --> majority\n",
    "    If all are unique --> last element\n",
    "    \n",
    "    \"\"\"\n",
    "\n",
    "    count = len(set(list(row.values)))\n",
    "    if count == 1:\n",
    "        return row.values[0]\n",
    "    elif count == 2:\n",
    "        return max(set(list(row.values)), key=list(row.values).count)\n",
    "    else:\n",
    "        return row.values[-1]\n",
    "    \n",
    "resample_df_hvac = df_raw_hvac_states.resample('15T').apply(func).dropna()"
   ]
  },
  {
   "cell_type": "code",
   "execution_count": 87,
   "metadata": {},
   "outputs": [
    {
     "name": "stdout",
     "output_type": "stream",
     "text": [
      "missing data for power: \n",
      " hvac_zone_lobby           0.0\n",
      "hvac_zone_main_hallway    0.0\n",
      "hvac_zone_room_a          0.0\n",
      "hvac_zone_theater_2       0.0\n",
      "hvac_zone_back_hallway    0.0\n",
      "hvac_zone_room_d          0.0\n",
      "hvac_zone_pegasus_hall    0.0\n",
      "hvac_zone_theater_1       0.0\n",
      "dtype: float64\n"
     ]
    }
   ],
   "source": [
    "missing = resample_df_hvac.isnull().sum()\n",
    "total = resample_df_hvac.shape[0]\n",
    "print('missing data for power: \\n', (missing/total)*100)"
   ]
  },
  {
   "cell_type": "code",
   "execution_count": null,
   "metadata": {},
   "outputs": [],
   "source": []
  }
 ],
 "metadata": {
  "kernelspec": {
   "display_name": "Python 3",
   "language": "python",
   "name": "python3"
  },
  "language_info": {
   "codemirror_mode": {
    "name": "ipython",
    "version": 3
   },
   "file_extension": ".py",
   "mimetype": "text/x-python",
   "name": "python",
   "nbconvert_exporter": "python",
   "pygments_lexer": "ipython3",
   "version": "3.7.3"
  }
 },
 "nbformat": 4,
 "nbformat_minor": 2
}
