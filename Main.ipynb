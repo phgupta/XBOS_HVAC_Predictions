{
 "cells": [
  {
   "cell_type": "markdown",
   "metadata": {},
   "source": [
    "# XBOS_HVAC_Predictions\n",
    "This notebook predicts the HVAC power consumption when there's a single state change in the zones.\n",
    "\n",
    "# Future\n",
    "Future implementation includes predicting the HVAC power consumption when there are multiple state changes in the zones."
   ]
  },
  {
   "cell_type": "code",
   "execution_count": 1,
   "metadata": {},
   "outputs": [],
   "source": [
    "import numpy as np\n",
    "import pandas as pd\n",
    "\n",
    "import matplotlib.pyplot as plt\n",
    "%matplotlib inline\n",
    "\n",
    "from system_id_utils import *"
   ]
  },
  {
   "cell_type": "markdown",
   "metadata": {},
   "source": [
    "# Import Data"
   ]
  },
  {
   "cell_type": "code",
   "execution_count": 12,
   "metadata": {},
   "outputs": [],
   "source": [
    "data_folder = 'data'\n",
    "site = 'avenal_animal_shelter'"
   ]
  },
  {
   "cell_type": "code",
   "execution_count": 3,
   "metadata": {},
   "outputs": [],
   "source": [
    "df_power = pd.read_csv(data_folder + '/' + site + '-meter_data.csv', index_col=0, parse_dates=True)\n",
    "df_tstat = pd.read_csv(data_folder + '/' + site + '-tstat_data.csv', index_col=0, parse_dates=True)\n",
    "df_weather = pd.read_csv(data_folder + '/' + site + '-oat_data.csv', index_col=0, parse_dates=True)"
   ]
  },
  {
   "cell_type": "code",
   "execution_count": 4,
   "metadata": {},
   "outputs": [],
   "source": [
    "df_power.columns = ['power']\n",
    "df_weather = df_weather.drop(columns=['a6e9f305-d76b-3e1a-8b11-e3d312134f02'])\n",
    "df_weather = df_weather.interpolate(axis=0, method='linear')\n",
    "df_weather.columns = ['oat']"
   ]
  },
  {
   "cell_type": "code",
   "execution_count": 5,
   "metadata": {},
   "outputs": [],
   "source": [
    "df = pd.concat([df_power, df_tstat, df_weather], axis=1).dropna()\n",
    "num_zones = [col for col in df_tstat.columns if col.startswith('s')]\n",
    "df['state'] = np.sum(np.array([df['s%d'%i]*(10**i) for i in range(len(num_zones))]), axis=0)"
   ]
  },
  {
   "cell_type": "markdown",
   "metadata": {},
   "source": [
    "# Prepare data for Modeling"
   ]
  },
  {
   "cell_type": "code",
   "execution_count": null,
   "metadata": {},
   "outputs": [],
   "source": [
    "df_dummies = pd.get_dummies(df, columns=num_zones)\n",
    "# df_dummies\n",
    "\n",
    "# CHECK: Delete below later\n",
    "# Below code does the same thing as above - using this for the \"Stuff\" cell\n",
    "new_cols = {}\n",
    "state_cols = []\n",
    "for col in num_zones:\n",
    "    new_cols[col] = []\n",
    "    for val in df[col].unique():\n",
    "        new_col = '%s_%d'%(col, val)\n",
    "        new_cols[col].append(new_col)\n",
    "        state_cols.append(new_col)\n",
    "        df[new_col] = 0\n",
    "        df.loc[df.loc[(df[col]==val)].index, new_col] = 1\n",
    "state_cols = sorted(state_cols)"
   ]
  },
  {
   "cell_type": "code",
   "execution_count": null,
   "metadata": {},
   "outputs": [],
   "source": [
    "df_dummies.head()"
   ]
  },
  {
   "cell_type": "code",
   "execution_count": null,
   "metadata": {},
   "outputs": [],
   "source": [
    "# Independent and dependent variables\n",
    "X, y = [], []\n",
    "\n",
    "# Continuous blocks of data with 1-min interval (~500ms execution time)\n",
    "blocks = get_continuous_blocks(orig_df=df)\n",
    "\n",
    "# Each block has 1min interval data with no gaps\n",
    "for i, block in enumerate(blocks):\n",
    "    \n",
    "    prev, prev_state = None, None\n",
    "    \n",
    "    # df1 = df[start_time:end_time]\n",
    "    df1 = df[block[0]: block[1]]\n",
    "    \n",
    "    # Each block has data with a single change in state only\n",
    "    state_blocks = get_single_state_diff(orig_df=df1)\n",
    "    \n",
    "    for state_block in state_blocks:\n",
    "        st = state_block[0]\n",
    "        et = state_block[1]\n",
    "        df2 = df1[st:et]\n",
    "        \n",
    "        # current_state = 0.0, 1.0...\n",
    "        current_state = df2['state'].unique()[0]\n",
    "                \n",
    "        # first - first five minutes of new state (Not used anymore) (average)\n",
    "        # last - last five minutes of the previous state (average)\n",
    "        first, last = get_first_last_block_power(df2)\n",
    "        \n",
    "        # The first block will not have a previous\n",
    "        if not prev:\n",
    "            # previous state is the current state\n",
    "            prev_state = current_state\n",
    "            \n",
    "            # prev = avg of last 5min of previous state\n",
    "            prev = last\n",
    "            \n",
    "            continue\n",
    "        \n",
    "        # CHECK: OPTIMIZE! \n",
    "        # this line is setting the entire column to one value\n",
    "        df2['prev'] = prev\n",
    "        \n",
    "        # CHECK: '5min' is hardcoded!\n",
    "        df3 = df2.resample('5min').mean()\n",
    "        df3['power_diff'] = df3['power'] - df3['prev']\n",
    "        \n",
    "        state_col_change = get_action_from_state_diff(prev_state=prev_state, current_state=current_state)\n",
    "        \n",
    "        # CHECK: Will this case ever happen? Isn't the whole point of\n",
    "        # for state_block in state_blocks that we're looping through \n",
    "        # blocks when there's a state change?\n",
    "        if not state_col_change:\n",
    "            continue\n",
    "        \n",
    "        y.append(df3['power_diff'].values)\n",
    "        \n",
    "        # e.g. state_col_change = 's0_0'\n",
    "        temp_col_change = 't' + state_col_change[1:].split('_')[0]\n",
    "        \n",
    "        prev = last\n",
    "        prev_state = current_state\n",
    "        \n",
    "        tod = list(df3.index.hour*60 + df3.index.minute)\n",
    "        num_rows = len(tod) # number of rows in current state\n",
    "        \n",
    "        # IAT of the zone that changed\n",
    "        tin = list(df3[temp_col_change])\n",
    "        \n",
    "        # OAT\n",
    "        tout = list(df3['oat'])\n",
    "        \n",
    "        state_flags = []\n",
    "        for state_col in state_cols:\n",
    "            if state_col == state_col_change:\n",
    "                flag_array = [1 for i in range(num_rows)]\n",
    "                state_flags.append(flag_array)\n",
    "            else:\n",
    "                flag_array = [0 for i in range(num_rows)]\n",
    "                state_flags.append(flag_array)\n",
    "                \n",
    "        state_flags = np.array(state_flags).T\n",
    "        \n",
    "        for i in range(num_rows):\n",
    "            row = [tod[i], tin[i], tout[i]] + list(state_flags[i, :])\n",
    "            X.append(row)\n",
    "\n",
    "        prev = last\n",
    "        prev_state = current_state\n",
    "               \n",
    "np_X = np.array(X)\n",
    "np_y = np.concatenate(y)\n",
    "\n",
    "# X = [ [1185, 70.29999999999998, 69.92474999999999, 1, 0, 0, 0], ...]"
   ]
  },
  {
   "cell_type": "code",
   "execution_count": null,
   "metadata": {},
   "outputs": [],
   "source": [
    "# pd.DataFrame(np_X).to_csv(data_folder + '/' + site + '-X.csv')\n",
    "# pd.DataFrame(np_y).to_csv(data_folder + '/' + site + '-y.csv')"
   ]
  },
  {
   "cell_type": "markdown",
   "metadata": {},
   "source": [
    "# Modeling"
   ]
  },
  {
   "cell_type": "markdown",
   "metadata": {},
   "source": [
    "## Get Data"
   ]
  },
  {
   "cell_type": "code",
   "execution_count": null,
   "metadata": {},
   "outputs": [],
   "source": [
    "X = pd.read_csv(data_folder + '/' + site + '-X.csv', index_col=[0])\n",
    "X.columns = ['tod', 'IAT', 'OAT', 's0_0', 's0_1', 's0_2', 's0_5']\n",
    "\n",
    "y = pd.read_csv(data_folder + '/' + site + '-y.csv', index_col=[0])\n",
    "y.columns = ['delta_power']"
   ]
  },
  {
   "cell_type": "code",
   "execution_count": 23,
   "metadata": {},
   "outputs": [],
   "source": [
    "# X.head()\n",
    "# y.head()"
   ]
  },
  {
   "cell_type": "markdown",
   "metadata": {},
   "source": [
    "## LSTM"
   ]
  },
  {
   "cell_type": "markdown",
   "metadata": {},
   "source": [
    "## Random Forest"
   ]
  },
  {
   "cell_type": "markdown",
   "metadata": {},
   "source": [
    "## ANN"
   ]
  },
  {
   "cell_type": "code",
   "execution_count": null,
   "metadata": {},
   "outputs": [],
   "source": []
  }
 ],
 "metadata": {
  "kernelspec": {
   "display_name": "Python 3",
   "language": "python",
   "name": "python3"
  },
  "language_info": {
   "codemirror_mode": {
    "name": "ipython",
    "version": 3
   },
   "file_extension": ".py",
   "mimetype": "text/x-python",
   "name": "python",
   "nbconvert_exporter": "python",
   "pygments_lexer": "ipython3",
   "version": "3.7.1"
  }
 },
 "nbformat": 4,
 "nbformat_minor": 2
}
